{
 "cells": [
  {
   "cell_type": "code",
   "execution_count": 26,
   "metadata": {},
   "outputs": [],
   "source": [
    "import pandas as pd"
   ]
  },
  {
   "cell_type": "code",
   "execution_count": 29,
   "metadata": {},
   "outputs": [],
   "source": [
    "df = pd.read_csv(\"data/dataOPTI.csv\", index_col=[\"Type\"])"
   ]
  },
  {
   "attachments": {},
   "cell_type": "markdown",
   "metadata": {},
   "source": [
    "# Without LV LL SL"
   ]
  },
  {
   "cell_type": "code",
   "execution_count": 161,
   "metadata": {},
   "outputs": [
    {
     "data": {
      "text/html": [
       "<div>\n",
       "<style scoped>\n",
       "    .dataframe tbody tr th:only-of-type {\n",
       "        vertical-align: middle;\n",
       "    }\n",
       "\n",
       "    .dataframe tbody tr th {\n",
       "        vertical-align: top;\n",
       "    }\n",
       "\n",
       "    .dataframe thead th {\n",
       "        text-align: right;\n",
       "    }\n",
       "</style>\n",
       "<table border=\"1\" class=\"dataframe\">\n",
       "  <thead>\n",
       "    <tr style=\"text-align: right;\">\n",
       "      <th></th>\n",
       "      <th>LV</th>\n",
       "      <th>LL</th>\n",
       "      <th>SL</th>\n",
       "    </tr>\n",
       "    <tr>\n",
       "      <th>Type</th>\n",
       "      <th></th>\n",
       "      <th></th>\n",
       "      <th></th>\n",
       "    </tr>\n",
       "  </thead>\n",
       "  <tbody>\n",
       "    <tr>\n",
       "      <th>A100-3-1</th>\n",
       "      <td>1</td>\n",
       "      <td>1</td>\n",
       "      <td>1</td>\n",
       "    </tr>\n",
       "    <tr>\n",
       "      <th>A100-3-10</th>\n",
       "      <td>1</td>\n",
       "      <td>1</td>\n",
       "      <td>1</td>\n",
       "    </tr>\n",
       "    <tr>\n",
       "      <th>A100-3-100</th>\n",
       "      <td>1</td>\n",
       "      <td>1</td>\n",
       "      <td>1</td>\n",
       "    </tr>\n",
       "    <tr>\n",
       "      <th>A100-3-101</th>\n",
       "      <td>1</td>\n",
       "      <td>1</td>\n",
       "      <td>0</td>\n",
       "    </tr>\n",
       "    <tr>\n",
       "      <th>A100-3-102</th>\n",
       "      <td>1</td>\n",
       "      <td>1</td>\n",
       "      <td>1</td>\n",
       "    </tr>\n",
       "  </tbody>\n",
       "</table>\n",
       "</div>"
      ],
      "text/plain": [
       "            LV  LL  SL\n",
       "Type                  \n",
       "A100-3-1     1   1   1\n",
       "A100-3-10    1   1   1\n",
       "A100-3-100   1   1   1\n",
       "A100-3-101   1   1   0\n",
       "A100-3-102   1   1   1"
      ]
     },
     "execution_count": 161,
     "metadata": {},
     "output_type": "execute_result"
    }
   ],
   "source": [
    "#Variable to optimize\n",
    "opti = df[['LV','LL','SL']]\n",
    "opti.head()"
   ]
  },
  {
   "cell_type": "code",
   "execution_count": 162,
   "metadata": {},
   "outputs": [],
   "source": [
    "tmp = df.drop(columns=['LV','LL','SL'],axis=1) #drop variables to optimize"
   ]
  },
  {
   "cell_type": "code",
   "execution_count": 163,
   "metadata": {},
   "outputs": [
    {
     "data": {
      "text/html": [
       "<div>\n",
       "<style scoped>\n",
       "    .dataframe tbody tr th:only-of-type {\n",
       "        vertical-align: middle;\n",
       "    }\n",
       "\n",
       "    .dataframe tbody tr th {\n",
       "        vertical-align: top;\n",
       "    }\n",
       "\n",
       "    .dataframe thead th {\n",
       "        text-align: right;\n",
       "    }\n",
       "</style>\n",
       "<table border=\"1\" class=\"dataframe\">\n",
       "  <thead>\n",
       "    <tr style=\"text-align: right;\">\n",
       "      <th></th>\n",
       "      <th>11:00:00 PM</th>\n",
       "      <th>12:00:00 AM</th>\n",
       "      <th>1:00:00 AM</th>\n",
       "      <th>2:00:00 AM</th>\n",
       "      <th>3:00:00 AM</th>\n",
       "      <th>4:00:00 AM</th>\n",
       "      <th>5:00:00 AM</th>\n",
       "      <th>6:00:00 AM</th>\n",
       "      <th>7:00:00 AM</th>\n",
       "      <th>8:00:00 AM</th>\n",
       "      <th>...</th>\n",
       "      <th>1:00:00 PM</th>\n",
       "      <th>2:00:00 PM</th>\n",
       "      <th>3:00:00 PM</th>\n",
       "      <th>4:00:00 PM</th>\n",
       "      <th>5:00:00 PM</th>\n",
       "      <th>6:00:00 PM</th>\n",
       "      <th>7:00:00 PM</th>\n",
       "      <th>8:00:00 PM</th>\n",
       "      <th>9:00:00 PM</th>\n",
       "      <th>10:00:00 PM</th>\n",
       "    </tr>\n",
       "  </thead>\n",
       "  <tbody>\n",
       "    <tr>\n",
       "      <th>TV</th>\n",
       "      <td>0.0200</td>\n",
       "      <td>0.0029</td>\n",
       "      <td>0.0029</td>\n",
       "      <td>0.0029</td>\n",
       "      <td>0.0029</td>\n",
       "      <td>0.0029</td>\n",
       "      <td>0.0029</td>\n",
       "      <td>0.0029</td>\n",
       "      <td>0.0200</td>\n",
       "      <td>0.0300</td>\n",
       "      <td>...</td>\n",
       "      <td>0.0500</td>\n",
       "      <td>0.0100</td>\n",
       "      <td>0.0100</td>\n",
       "      <td>0.0100</td>\n",
       "      <td>0.0100</td>\n",
       "      <td>0.0500</td>\n",
       "      <td>0.1000</td>\n",
       "      <td>0.2500</td>\n",
       "      <td>0.1500</td>\n",
       "      <td>0.1000</td>\n",
       "    </tr>\n",
       "    <tr>\n",
       "      <th>FG1</th>\n",
       "      <td>0.0417</td>\n",
       "      <td>0.0417</td>\n",
       "      <td>0.0417</td>\n",
       "      <td>0.0417</td>\n",
       "      <td>0.0417</td>\n",
       "      <td>0.0417</td>\n",
       "      <td>0.0417</td>\n",
       "      <td>0.0417</td>\n",
       "      <td>0.0417</td>\n",
       "      <td>0.0417</td>\n",
       "      <td>...</td>\n",
       "      <td>0.0417</td>\n",
       "      <td>0.0417</td>\n",
       "      <td>0.0417</td>\n",
       "      <td>0.0417</td>\n",
       "      <td>0.0417</td>\n",
       "      <td>0.0417</td>\n",
       "      <td>0.0417</td>\n",
       "      <td>0.0417</td>\n",
       "      <td>0.0417</td>\n",
       "      <td>0.0417</td>\n",
       "    </tr>\n",
       "    <tr>\n",
       "      <th>CE1</th>\n",
       "      <td>0.0417</td>\n",
       "      <td>0.0417</td>\n",
       "      <td>0.0417</td>\n",
       "      <td>0.0417</td>\n",
       "      <td>0.0417</td>\n",
       "      <td>0.0417</td>\n",
       "      <td>0.0417</td>\n",
       "      <td>0.0417</td>\n",
       "      <td>0.0417</td>\n",
       "      <td>0.0417</td>\n",
       "      <td>...</td>\n",
       "      <td>0.0417</td>\n",
       "      <td>0.0417</td>\n",
       "      <td>0.0417</td>\n",
       "      <td>0.0417</td>\n",
       "      <td>0.0417</td>\n",
       "      <td>0.0417</td>\n",
       "      <td>0.0417</td>\n",
       "      <td>0.0417</td>\n",
       "      <td>0.0417</td>\n",
       "      <td>0.0417</td>\n",
       "    </tr>\n",
       "    <tr>\n",
       "      <th>CG</th>\n",
       "      <td>0.0417</td>\n",
       "      <td>0.0417</td>\n",
       "      <td>0.0417</td>\n",
       "      <td>0.0417</td>\n",
       "      <td>0.0417</td>\n",
       "      <td>0.0417</td>\n",
       "      <td>0.0417</td>\n",
       "      <td>0.0417</td>\n",
       "      <td>0.0417</td>\n",
       "      <td>0.0417</td>\n",
       "      <td>...</td>\n",
       "      <td>0.0417</td>\n",
       "      <td>0.0417</td>\n",
       "      <td>0.0417</td>\n",
       "      <td>0.0417</td>\n",
       "      <td>0.0417</td>\n",
       "      <td>0.0417</td>\n",
       "      <td>0.0417</td>\n",
       "      <td>0.0417</td>\n",
       "      <td>0.0417</td>\n",
       "      <td>0.0417</td>\n",
       "    </tr>\n",
       "    <tr>\n",
       "      <th>FO</th>\n",
       "      <td>0.0010</td>\n",
       "      <td>0.0010</td>\n",
       "      <td>0.0010</td>\n",
       "      <td>0.0010</td>\n",
       "      <td>0.0010</td>\n",
       "      <td>0.0010</td>\n",
       "      <td>0.0010</td>\n",
       "      <td>0.0010</td>\n",
       "      <td>0.0010</td>\n",
       "      <td>0.0010</td>\n",
       "      <td>...</td>\n",
       "      <td>0.1000</td>\n",
       "      <td>0.0150</td>\n",
       "      <td>0.0150</td>\n",
       "      <td>0.0150</td>\n",
       "      <td>0.0150</td>\n",
       "      <td>0.1000</td>\n",
       "      <td>0.2000</td>\n",
       "      <td>0.2000</td>\n",
       "      <td>0.1000</td>\n",
       "      <td>0.0010</td>\n",
       "    </tr>\n",
       "    <tr>\n",
       "      <th>PL</th>\n",
       "      <td>0.0025</td>\n",
       "      <td>0.0025</td>\n",
       "      <td>0.0025</td>\n",
       "      <td>0.0025</td>\n",
       "      <td>0.0025</td>\n",
       "      <td>0.0025</td>\n",
       "      <td>0.0025</td>\n",
       "      <td>0.0025</td>\n",
       "      <td>0.0500</td>\n",
       "      <td>0.0500</td>\n",
       "      <td>...</td>\n",
       "      <td>0.1500</td>\n",
       "      <td>0.0500</td>\n",
       "      <td>0.0160</td>\n",
       "      <td>0.0160</td>\n",
       "      <td>0.0160</td>\n",
       "      <td>0.0160</td>\n",
       "      <td>0.1000</td>\n",
       "      <td>0.1500</td>\n",
       "      <td>0.1000</td>\n",
       "      <td>0.0500</td>\n",
       "    </tr>\n",
       "    <tr>\n",
       "      <th>FG2</th>\n",
       "      <td>0.0417</td>\n",
       "      <td>0.0417</td>\n",
       "      <td>0.0417</td>\n",
       "      <td>0.0417</td>\n",
       "      <td>0.0417</td>\n",
       "      <td>0.0417</td>\n",
       "      <td>0.0417</td>\n",
       "      <td>0.0417</td>\n",
       "      <td>0.0417</td>\n",
       "      <td>0.0417</td>\n",
       "      <td>...</td>\n",
       "      <td>0.0417</td>\n",
       "      <td>0.0417</td>\n",
       "      <td>0.0417</td>\n",
       "      <td>0.0417</td>\n",
       "      <td>0.0417</td>\n",
       "      <td>0.0417</td>\n",
       "      <td>0.0417</td>\n",
       "      <td>0.0417</td>\n",
       "      <td>0.0417</td>\n",
       "      <td>0.0417</td>\n",
       "    </tr>\n",
       "    <tr>\n",
       "      <th>CE2</th>\n",
       "      <td>0.0417</td>\n",
       "      <td>0.0417</td>\n",
       "      <td>0.0417</td>\n",
       "      <td>0.0417</td>\n",
       "      <td>0.0417</td>\n",
       "      <td>0.0417</td>\n",
       "      <td>0.0417</td>\n",
       "      <td>0.0417</td>\n",
       "      <td>0.0417</td>\n",
       "      <td>0.0417</td>\n",
       "      <td>...</td>\n",
       "      <td>0.0417</td>\n",
       "      <td>0.0417</td>\n",
       "      <td>0.0417</td>\n",
       "      <td>0.0417</td>\n",
       "      <td>0.0417</td>\n",
       "      <td>0.0417</td>\n",
       "      <td>0.0417</td>\n",
       "      <td>0.0417</td>\n",
       "      <td>0.0417</td>\n",
       "      <td>0.0417</td>\n",
       "    </tr>\n",
       "  </tbody>\n",
       "</table>\n",
       "<p>8 rows × 24 columns</p>\n",
       "</div>"
      ],
      "text/plain": [
       "     11:00:00 PM  12:00:00 AM  1:00:00 AM  2:00:00 AM  3:00:00 AM  4:00:00 AM  \\\n",
       "TV        0.0200       0.0029      0.0029      0.0029      0.0029      0.0029   \n",
       "FG1       0.0417       0.0417      0.0417      0.0417      0.0417      0.0417   \n",
       "CE1       0.0417       0.0417      0.0417      0.0417      0.0417      0.0417   \n",
       "CG        0.0417       0.0417      0.0417      0.0417      0.0417      0.0417   \n",
       "FO        0.0010       0.0010      0.0010      0.0010      0.0010      0.0010   \n",
       "PL        0.0025       0.0025      0.0025      0.0025      0.0025      0.0025   \n",
       "FG2       0.0417       0.0417      0.0417      0.0417      0.0417      0.0417   \n",
       "CE2       0.0417       0.0417      0.0417      0.0417      0.0417      0.0417   \n",
       "\n",
       "     5:00:00 AM  6:00:00 AM  7:00:00 AM  8:00:00 AM  ...  1:00:00 PM  \\\n",
       "TV       0.0029      0.0029      0.0200      0.0300  ...      0.0500   \n",
       "FG1      0.0417      0.0417      0.0417      0.0417  ...      0.0417   \n",
       "CE1      0.0417      0.0417      0.0417      0.0417  ...      0.0417   \n",
       "CG       0.0417      0.0417      0.0417      0.0417  ...      0.0417   \n",
       "FO       0.0010      0.0010      0.0010      0.0010  ...      0.1000   \n",
       "PL       0.0025      0.0025      0.0500      0.0500  ...      0.1500   \n",
       "FG2      0.0417      0.0417      0.0417      0.0417  ...      0.0417   \n",
       "CE2      0.0417      0.0417      0.0417      0.0417  ...      0.0417   \n",
       "\n",
       "     2:00:00 PM  3:00:00 PM  4:00:00 PM  5:00:00 PM  6:00:00 PM  7:00:00 PM  \\\n",
       "TV       0.0100      0.0100      0.0100      0.0100      0.0500      0.1000   \n",
       "FG1      0.0417      0.0417      0.0417      0.0417      0.0417      0.0417   \n",
       "CE1      0.0417      0.0417      0.0417      0.0417      0.0417      0.0417   \n",
       "CG       0.0417      0.0417      0.0417      0.0417      0.0417      0.0417   \n",
       "FO       0.0150      0.0150      0.0150      0.0150      0.1000      0.2000   \n",
       "PL       0.0500      0.0160      0.0160      0.0160      0.0160      0.1000   \n",
       "FG2      0.0417      0.0417      0.0417      0.0417      0.0417      0.0417   \n",
       "CE2      0.0417      0.0417      0.0417      0.0417      0.0417      0.0417   \n",
       "\n",
       "     8:00:00 PM  9:00:00 PM  10:00:00 PM  \n",
       "TV       0.2500      0.1500       0.1000  \n",
       "FG1      0.0417      0.0417       0.0417  \n",
       "CE1      0.0417      0.0417       0.0417  \n",
       "CG       0.0417      0.0417       0.0417  \n",
       "FO       0.2000      0.1000       0.0010  \n",
       "PL       0.1500      0.1000       0.0500  \n",
       "FG2      0.0417      0.0417       0.0417  \n",
       "CE2      0.0417      0.0417       0.0417  \n",
       "\n",
       "[8 rows x 24 columns]"
      ]
     },
     "execution_count": 163,
     "metadata": {},
     "output_type": "execute_result"
    }
   ],
   "source": [
    "planning = pd.read_csv(\"planning/planning.csv\", index_col=['Unnamed: 0']) #planning of each home appliance\n",
    "planning"
   ]
  },
  {
   "cell_type": "code",
   "execution_count": 34,
   "metadata": {},
   "outputs": [],
   "source": [
    "heures = ['11:00:00 PM','12:00:00 AM','1:00:00 AM','2:00:00 AM','3:00:00 AM','4:00:00 AM','5:00:00 AM',\n",
    "    '6:00:00 AM','7:00:00 AM','8:00:00 AM','9:00:00 AM','10:00:00 AM','11:00:00 AM','12:00:00 PM',\n",
    "    '1:00:00 PM','2:00:00 PM','3:00:00 PM','4:00:00 PM','5:00:00 PM','6:00:00 PM','7:00:00 PM','8:00:00 PM',\n",
    "    '9:00:00 PM','10:00:00 PM']"
   ]
  },
  {
   "cell_type": "code",
   "execution_count": 35,
   "metadata": {},
   "outputs": [],
   "source": [
    "electro = {'TV':0.4,\n",
    "            'FG1':0.45,\n",
    "            'CE1':13.2,\n",
    "            'CG':0.5,\n",
    "            'FO':0.85,\n",
    "            'PL':0.85,\n",
    "            'FG2':0.45,\n",
    "            'CE2':18\n",
    "        }"
   ]
  },
  {
   "cell_type": "code",
   "execution_count": 165,
   "metadata": {},
   "outputs": [],
   "source": [
    "tmp[heures]=0"
   ]
  },
  {
   "cell_type": "code",
   "execution_count": 166,
   "metadata": {},
   "outputs": [],
   "source": [
    "conso = tmp[heures]"
   ]
  },
  {
   "cell_type": "code",
   "execution_count": 167,
   "metadata": {},
   "outputs": [
    {
     "name": "stderr",
     "output_type": "stream",
     "text": [
      "/tmp/ipykernel_7582/1469331680.py:6: SettingWithCopyWarning: \n",
      "A value is trying to be set on a copy of a slice from a DataFrame\n",
      "\n",
      "See the caveats in the documentation: https://pandas.pydata.org/pandas-docs/stable/user_guide/indexing.html#returning-a-view-versus-a-copy\n",
      "  conso[i].loc[c] = sum\n"
     ]
    }
   ],
   "source": [
    "for c in conso.index:\n",
    "    for i in heures:\n",
    "        sum = 0\n",
    "        for a in electro:\n",
    "            sum = sum + tmp[a].loc[c] * electro[a] * planning[i].loc[a]\n",
    "        conso[i].loc[c] = sum"
   ]
  },
  {
   "cell_type": "code",
   "execution_count": 168,
   "metadata": {},
   "outputs": [
    {
     "data": {
      "text/plain": [
       "<AxesSubplot:>"
      ]
     },
     "execution_count": 168,
     "metadata": {},
     "output_type": "execute_result"
    },
    {
     "data": {
      "image/png": "[encoded data removed]",
      "text/plain": [
       "<Figure size 640x480 with 1 Axes>"
      ]
     },
     "metadata": {},
     "output_type": "display_data"
    }
   ],
   "source": [
    "conso.mean(axis=0).plot()"
   ]
  },
  {
   "cell_type": "code",
   "execution_count": 140,
   "metadata": {},
   "outputs": [
    {
     "data": {
      "text/plain": [
       "Type\n",
       "A100-3-1      34.22665\n",
       "A100-3-10     16.21225\n",
       "A100-3-100    15.76189\n",
       "A100-3-101    34.27669\n",
       "A100-3-102    15.76189\n",
       "                ...   \n",
       "M90-4-95      16.21225\n",
       "M90-4-96      16.21225\n",
       "M90-4-97      34.22665\n",
       "M90-4-98      34.27669\n",
       "M90-4-99      16.71265\n",
       "Length: 20741, dtype: float64"
      ]
     },
     "execution_count": 140,
     "metadata": {},
     "output_type": "execute_result"
    }
   ],
   "source": [
    "conso.sum(axis=1)"
   ]
  },
  {
   "cell_type": "code",
   "execution_count": 141,
   "metadata": {},
   "outputs": [],
   "source": [
    "conso.to_csv('conso/conso.csv')"
   ]
  },
  {
   "attachments": {},
   "cell_type": "markdown",
   "metadata": {},
   "source": [
    "# LV LL SL averaged on the day (1/24)"
   ]
  },
  {
   "cell_type": "code",
   "execution_count": 43,
   "metadata": {},
   "outputs": [
    {
     "data": {
      "text/html": [
       "<div>\n",
       "<style scoped>\n",
       "    .dataframe tbody tr th:only-of-type {\n",
       "        vertical-align: middle;\n",
       "    }\n",
       "\n",
       "    .dataframe tbody tr th {\n",
       "        vertical-align: top;\n",
       "    }\n",
       "\n",
       "    .dataframe thead th {\n",
       "        text-align: right;\n",
       "    }\n",
       "</style>\n",
       "<table border=\"1\" class=\"dataframe\">\n",
       "  <thead>\n",
       "    <tr style=\"text-align: right;\">\n",
       "      <th></th>\n",
       "      <th>11:00:00 PM</th>\n",
       "      <th>12:00:00 AM</th>\n",
       "      <th>1:00:00 AM</th>\n",
       "      <th>2:00:00 AM</th>\n",
       "      <th>3:00:00 AM</th>\n",
       "      <th>4:00:00 AM</th>\n",
       "      <th>5:00:00 AM</th>\n",
       "      <th>6:00:00 AM</th>\n",
       "      <th>7:00:00 AM</th>\n",
       "      <th>8:00:00 AM</th>\n",
       "      <th>...</th>\n",
       "      <th>1:00:00 PM</th>\n",
       "      <th>2:00:00 PM</th>\n",
       "      <th>3:00:00 PM</th>\n",
       "      <th>4:00:00 PM</th>\n",
       "      <th>5:00:00 PM</th>\n",
       "      <th>6:00:00 PM</th>\n",
       "      <th>7:00:00 PM</th>\n",
       "      <th>8:00:00 PM</th>\n",
       "      <th>9:00:00 PM</th>\n",
       "      <th>10:00:00 PM</th>\n",
       "    </tr>\n",
       "  </thead>\n",
       "  <tbody>\n",
       "    <tr>\n",
       "      <th>LV</th>\n",
       "      <td>0.0417</td>\n",
       "      <td>0.0417</td>\n",
       "      <td>0.0417</td>\n",
       "      <td>0.0417</td>\n",
       "      <td>0.0417</td>\n",
       "      <td>0.0417</td>\n",
       "      <td>0.0417</td>\n",
       "      <td>0.0417</td>\n",
       "      <td>0.0417</td>\n",
       "      <td>0.0417</td>\n",
       "      <td>...</td>\n",
       "      <td>0.0417</td>\n",
       "      <td>0.0417</td>\n",
       "      <td>0.0417</td>\n",
       "      <td>0.0417</td>\n",
       "      <td>0.0417</td>\n",
       "      <td>0.0417</td>\n",
       "      <td>0.0417</td>\n",
       "      <td>0.0417</td>\n",
       "      <td>0.0417</td>\n",
       "      <td>0.0417</td>\n",
       "    </tr>\n",
       "    <tr>\n",
       "      <th>LL</th>\n",
       "      <td>0.0417</td>\n",
       "      <td>0.0417</td>\n",
       "      <td>0.0417</td>\n",
       "      <td>0.0417</td>\n",
       "      <td>0.0417</td>\n",
       "      <td>0.0417</td>\n",
       "      <td>0.0417</td>\n",
       "      <td>0.0417</td>\n",
       "      <td>0.0417</td>\n",
       "      <td>0.0417</td>\n",
       "      <td>...</td>\n",
       "      <td>0.0417</td>\n",
       "      <td>0.0417</td>\n",
       "      <td>0.0417</td>\n",
       "      <td>0.0417</td>\n",
       "      <td>0.0417</td>\n",
       "      <td>0.0417</td>\n",
       "      <td>0.0417</td>\n",
       "      <td>0.0417</td>\n",
       "      <td>0.0417</td>\n",
       "      <td>0.0417</td>\n",
       "    </tr>\n",
       "    <tr>\n",
       "      <th>SL</th>\n",
       "      <td>0.0417</td>\n",
       "      <td>0.0417</td>\n",
       "      <td>0.0417</td>\n",
       "      <td>0.0417</td>\n",
       "      <td>0.0417</td>\n",
       "      <td>0.0417</td>\n",
       "      <td>0.0417</td>\n",
       "      <td>0.0417</td>\n",
       "      <td>0.0417</td>\n",
       "      <td>0.0417</td>\n",
       "      <td>...</td>\n",
       "      <td>0.0417</td>\n",
       "      <td>0.0417</td>\n",
       "      <td>0.0417</td>\n",
       "      <td>0.0417</td>\n",
       "      <td>0.0417</td>\n",
       "      <td>0.0417</td>\n",
       "      <td>0.0417</td>\n",
       "      <td>0.0417</td>\n",
       "      <td>0.0417</td>\n",
       "      <td>0.0417</td>\n",
       "    </tr>\n",
       "    <tr>\n",
       "      <th>TV</th>\n",
       "      <td>0.0200</td>\n",
       "      <td>0.0029</td>\n",
       "      <td>0.0029</td>\n",
       "      <td>0.0029</td>\n",
       "      <td>0.0029</td>\n",
       "      <td>0.0029</td>\n",
       "      <td>0.0029</td>\n",
       "      <td>0.0029</td>\n",
       "      <td>0.0200</td>\n",
       "      <td>0.0300</td>\n",
       "      <td>...</td>\n",
       "      <td>0.0500</td>\n",
       "      <td>0.0100</td>\n",
       "      <td>0.0100</td>\n",
       "      <td>0.0100</td>\n",
       "      <td>0.0100</td>\n",
       "      <td>0.0500</td>\n",
       "      <td>0.1000</td>\n",
       "      <td>0.2500</td>\n",
       "      <td>0.1500</td>\n",
       "      <td>0.1000</td>\n",
       "    </tr>\n",
       "    <tr>\n",
       "      <th>FG1</th>\n",
       "      <td>0.0417</td>\n",
       "      <td>0.0417</td>\n",
       "      <td>0.0417</td>\n",
       "      <td>0.0417</td>\n",
       "      <td>0.0417</td>\n",
       "      <td>0.0417</td>\n",
       "      <td>0.0417</td>\n",
       "      <td>0.0417</td>\n",
       "      <td>0.0417</td>\n",
       "      <td>0.0417</td>\n",
       "      <td>...</td>\n",
       "      <td>0.0417</td>\n",
       "      <td>0.0417</td>\n",
       "      <td>0.0417</td>\n",
       "      <td>0.0417</td>\n",
       "      <td>0.0417</td>\n",
       "      <td>0.0417</td>\n",
       "      <td>0.0417</td>\n",
       "      <td>0.0417</td>\n",
       "      <td>0.0417</td>\n",
       "      <td>0.0417</td>\n",
       "    </tr>\n",
       "    <tr>\n",
       "      <th>CE1</th>\n",
       "      <td>0.0417</td>\n",
       "      <td>0.0417</td>\n",
       "      <td>0.0417</td>\n",
       "      <td>0.0417</td>\n",
       "      <td>0.0417</td>\n",
       "      <td>0.0417</td>\n",
       "      <td>0.0417</td>\n",
       "      <td>0.0417</td>\n",
       "      <td>0.0417</td>\n",
       "      <td>0.0417</td>\n",
       "      <td>...</td>\n",
       "      <td>0.0417</td>\n",
       "      <td>0.0417</td>\n",
       "      <td>0.0417</td>\n",
       "      <td>0.0417</td>\n",
       "      <td>0.0417</td>\n",
       "      <td>0.0417</td>\n",
       "      <td>0.0417</td>\n",
       "      <td>0.0417</td>\n",
       "      <td>0.0417</td>\n",
       "      <td>0.0417</td>\n",
       "    </tr>\n",
       "    <tr>\n",
       "      <th>CG</th>\n",
       "      <td>0.0417</td>\n",
       "      <td>0.0417</td>\n",
       "      <td>0.0417</td>\n",
       "      <td>0.0417</td>\n",
       "      <td>0.0417</td>\n",
       "      <td>0.0417</td>\n",
       "      <td>0.0417</td>\n",
       "      <td>0.0417</td>\n",
       "      <td>0.0417</td>\n",
       "      <td>0.0417</td>\n",
       "      <td>...</td>\n",
       "      <td>0.0417</td>\n",
       "      <td>0.0417</td>\n",
       "      <td>0.0417</td>\n",
       "      <td>0.0417</td>\n",
       "      <td>0.0417</td>\n",
       "      <td>0.0417</td>\n",
       "      <td>0.0417</td>\n",
       "      <td>0.0417</td>\n",
       "      <td>0.0417</td>\n",
       "      <td>0.0417</td>\n",
       "    </tr>\n",
       "    <tr>\n",
       "      <th>FO</th>\n",
       "      <td>0.0010</td>\n",
       "      <td>0.0010</td>\n",
       "      <td>0.0010</td>\n",
       "      <td>0.0010</td>\n",
       "      <td>0.0010</td>\n",
       "      <td>0.0010</td>\n",
       "      <td>0.0010</td>\n",
       "      <td>0.0010</td>\n",
       "      <td>0.0010</td>\n",
       "      <td>0.0010</td>\n",
       "      <td>...</td>\n",
       "      <td>0.1000</td>\n",
       "      <td>0.0150</td>\n",
       "      <td>0.0150</td>\n",
       "      <td>0.0150</td>\n",
       "      <td>0.0150</td>\n",
       "      <td>0.1000</td>\n",
       "      <td>0.2000</td>\n",
       "      <td>0.2000</td>\n",
       "      <td>0.1000</td>\n",
       "      <td>0.0010</td>\n",
       "    </tr>\n",
       "    <tr>\n",
       "      <th>PL</th>\n",
       "      <td>0.0025</td>\n",
       "      <td>0.0025</td>\n",
       "      <td>0.0025</td>\n",
       "      <td>0.0025</td>\n",
       "      <td>0.0025</td>\n",
       "      <td>0.0025</td>\n",
       "      <td>0.0025</td>\n",
       "      <td>0.0025</td>\n",
       "      <td>0.0500</td>\n",
       "      <td>0.0500</td>\n",
       "      <td>...</td>\n",
       "      <td>0.1500</td>\n",
       "      <td>0.0500</td>\n",
       "      <td>0.0160</td>\n",
       "      <td>0.0160</td>\n",
       "      <td>0.0160</td>\n",
       "      <td>0.0160</td>\n",
       "      <td>0.1000</td>\n",
       "      <td>0.1500</td>\n",
       "      <td>0.1000</td>\n",
       "      <td>0.0500</td>\n",
       "    </tr>\n",
       "    <tr>\n",
       "      <th>FG2</th>\n",
       "      <td>0.0417</td>\n",
       "      <td>0.0417</td>\n",
       "      <td>0.0417</td>\n",
       "      <td>0.0417</td>\n",
       "      <td>0.0417</td>\n",
       "      <td>0.0417</td>\n",
       "      <td>0.0417</td>\n",
       "      <td>0.0417</td>\n",
       "      <td>0.0417</td>\n",
       "      <td>0.0417</td>\n",
       "      <td>...</td>\n",
       "      <td>0.0417</td>\n",
       "      <td>0.0417</td>\n",
       "      <td>0.0417</td>\n",
       "      <td>0.0417</td>\n",
       "      <td>0.0417</td>\n",
       "      <td>0.0417</td>\n",
       "      <td>0.0417</td>\n",
       "      <td>0.0417</td>\n",
       "      <td>0.0417</td>\n",
       "      <td>0.0417</td>\n",
       "    </tr>\n",
       "    <tr>\n",
       "      <th>CE2</th>\n",
       "      <td>0.0417</td>\n",
       "      <td>0.0417</td>\n",
       "      <td>0.0417</td>\n",
       "      <td>0.0417</td>\n",
       "      <td>0.0417</td>\n",
       "      <td>0.0417</td>\n",
       "      <td>0.0417</td>\n",
       "      <td>0.0417</td>\n",
       "      <td>0.0417</td>\n",
       "      <td>0.0417</td>\n",
       "      <td>...</td>\n",
       "      <td>0.0417</td>\n",
       "      <td>0.0417</td>\n",
       "      <td>0.0417</td>\n",
       "      <td>0.0417</td>\n",
       "      <td>0.0417</td>\n",
       "      <td>0.0417</td>\n",
       "      <td>0.0417</td>\n",
       "      <td>0.0417</td>\n",
       "      <td>0.0417</td>\n",
       "      <td>0.0417</td>\n",
       "    </tr>\n",
       "  </tbody>\n",
       "</table>\n",
       "<p>11 rows × 24 columns</p>\n",
       "</div>"
      ],
      "text/plain": [
       "     11:00:00 PM  12:00:00 AM  1:00:00 AM  2:00:00 AM  3:00:00 AM  4:00:00 AM  \\\n",
       "LV        0.0417       0.0417      0.0417      0.0417      0.0417      0.0417   \n",
       "LL        0.0417       0.0417      0.0417      0.0417      0.0417      0.0417   \n",
       "SL        0.0417       0.0417      0.0417      0.0417      0.0417      0.0417   \n",
       "TV        0.0200       0.0029      0.0029      0.0029      0.0029      0.0029   \n",
       "FG1       0.0417       0.0417      0.0417      0.0417      0.0417      0.0417   \n",
       "CE1       0.0417       0.0417      0.0417      0.0417      0.0417      0.0417   \n",
       "CG        0.0417       0.0417      0.0417      0.0417      0.0417      0.0417   \n",
       "FO        0.0010       0.0010      0.0010      0.0010      0.0010      0.0010   \n",
       "PL        0.0025       0.0025      0.0025      0.0025      0.0025      0.0025   \n",
       "FG2       0.0417       0.0417      0.0417      0.0417      0.0417      0.0417   \n",
       "CE2       0.0417       0.0417      0.0417      0.0417      0.0417      0.0417   \n",
       "\n",
       "     5:00:00 AM  6:00:00 AM  7:00:00 AM  8:00:00 AM  ...  1:00:00 PM  \\\n",
       "LV       0.0417      0.0417      0.0417      0.0417  ...      0.0417   \n",
       "LL       0.0417      0.0417      0.0417      0.0417  ...      0.0417   \n",
       "SL       0.0417      0.0417      0.0417      0.0417  ...      0.0417   \n",
       "TV       0.0029      0.0029      0.0200      0.0300  ...      0.0500   \n",
       "FG1      0.0417      0.0417      0.0417      0.0417  ...      0.0417   \n",
       "CE1      0.0417      0.0417      0.0417      0.0417  ...      0.0417   \n",
       "CG       0.0417      0.0417      0.0417      0.0417  ...      0.0417   \n",
       "FO       0.0010      0.0010      0.0010      0.0010  ...      0.1000   \n",
       "PL       0.0025      0.0025      0.0500      0.0500  ...      0.1500   \n",
       "FG2      0.0417      0.0417      0.0417      0.0417  ...      0.0417   \n",
       "CE2      0.0417      0.0417      0.0417      0.0417  ...      0.0417   \n",
       "\n",
       "     2:00:00 PM  3:00:00 PM  4:00:00 PM  5:00:00 PM  6:00:00 PM  7:00:00 PM  \\\n",
       "LV       0.0417      0.0417      0.0417      0.0417      0.0417      0.0417   \n",
       "LL       0.0417      0.0417      0.0417      0.0417      0.0417      0.0417   \n",
       "SL       0.0417      0.0417      0.0417      0.0417      0.0417      0.0417   \n",
       "TV       0.0100      0.0100      0.0100      0.0100      0.0500      0.1000   \n",
       "FG1      0.0417      0.0417      0.0417      0.0417      0.0417      0.0417   \n",
       "CE1      0.0417      0.0417      0.0417      0.0417      0.0417      0.0417   \n",
       "CG       0.0417      0.0417      0.0417      0.0417      0.0417      0.0417   \n",
       "FO       0.0150      0.0150      0.0150      0.0150      0.1000      0.2000   \n",
       "PL       0.0500      0.0160      0.0160      0.0160      0.0160      0.1000   \n",
       "FG2      0.0417      0.0417      0.0417      0.0417      0.0417      0.0417   \n",
       "CE2      0.0417      0.0417      0.0417      0.0417      0.0417      0.0417   \n",
       "\n",
       "     8:00:00 PM  9:00:00 PM  10:00:00 PM  \n",
       "LV       0.0417      0.0417       0.0417  \n",
       "LL       0.0417      0.0417       0.0417  \n",
       "SL       0.0417      0.0417       0.0417  \n",
       "TV       0.2500      0.1500       0.1000  \n",
       "FG1      0.0417      0.0417       0.0417  \n",
       "CE1      0.0417      0.0417       0.0417  \n",
       "CG       0.0417      0.0417       0.0417  \n",
       "FO       0.2000      0.1000       0.0010  \n",
       "PL       0.1500      0.1000       0.0500  \n",
       "FG2      0.0417      0.0417       0.0417  \n",
       "CE2      0.0417      0.0417       0.0417  \n",
       "\n",
       "[11 rows x 24 columns]"
      ]
     },
     "execution_count": 43,
     "metadata": {},
     "output_type": "execute_result"
    }
   ],
   "source": [
    "planning2 = pd.read_csv(\"planning/planning +LVLLSL.csv\", index_col=['Unnamed: 0']) #planning of each home appliance + variables to optimize\n",
    "planning2"
   ]
  },
  {
   "cell_type": "code",
   "execution_count": 44,
   "metadata": {},
   "outputs": [],
   "source": [
    "electro2 = {'LV':0.7, #averaged daily \n",
    "            'LL': 0.5,\n",
    "            'SL': 0.96,\n",
    "            'TV':0.4,\n",
    "            'FG1':0.45,\n",
    "            'CE1':13.2,\n",
    "            'CG':0.5,\n",
    "            'FO':0.85,\n",
    "            'PL':0.85,\n",
    "            'FG2':0.45,\n",
    "            'CE2':18\n",
    "        }"
   ]
  },
  {
   "cell_type": "code",
   "execution_count": 45,
   "metadata": {},
   "outputs": [],
   "source": [
    "tmp = df\n",
    "tmp[heures] = 0\n",
    "conso2 = tmp[heures]"
   ]
  },
  {
   "cell_type": "code",
   "execution_count": 46,
   "metadata": {},
   "outputs": [
    {
     "name": "stderr",
     "output_type": "stream",
     "text": [
      "/tmp/ipykernel_20530/1145776830.py:6: SettingWithCopyWarning:\n",
      "\n",
      "\n",
      "A value is trying to be set on a copy of a slice from a DataFrame\n",
      "\n",
      "See the caveats in the documentation: https://pandas.pydata.org/pandas-docs/stable/user_guide/indexing.html#returning-a-view-versus-a-copy\n",
      "\n"
     ]
    }
   ],
   "source": [
    "for c in conso2.index:\n",
    "    for i in heures:\n",
    "        sum = 0\n",
    "        for a in electro2:\n",
    "            sum = sum + tmp[a].loc[c] * electro2[a] * planning2[i].loc[a]\n",
    "        conso2[i].loc[c] = sum"
   ]
  },
  {
   "cell_type": "code",
   "execution_count": 159,
   "metadata": {},
   "outputs": [
    {
     "data": {
      "text/plain": [
       "<AxesSubplot:>"
      ]
     },
     "execution_count": 159,
     "metadata": {},
     "output_type": "execute_result"
    },
    {
     "data": {
      "image/png": "[encoded data removed]",
      "text/plain": [
       "<Figure size 640x480 with 1 Axes>"
      ]
     },
     "metadata": {},
     "output_type": "display_data"
    }
   ],
   "source": [
    "conso2.mean(axis=0).plot()"
   ]
  },
  {
   "cell_type": "code",
   "execution_count": 169,
   "metadata": {},
   "outputs": [],
   "source": [
    "conso2.to_csv('conso/conso2.csv')"
   ]
  },
  {
   "attachments": {},
   "cell_type": "markdown",
   "metadata": {},
   "source": [
    "# LV LL SL with \"logical\" distribution"
   ]
  },
  {
   "cell_type": "code",
   "execution_count": 30,
   "metadata": {},
   "outputs": [
    {
     "data": {
      "text/html": [
       "<div>\n",
       "<style scoped>\n",
       "    .dataframe tbody tr th:only-of-type {\n",
       "        vertical-align: middle;\n",
       "    }\n",
       "\n",
       "    .dataframe tbody tr th {\n",
       "        vertical-align: top;\n",
       "    }\n",
       "\n",
       "    .dataframe thead th {\n",
       "        text-align: right;\n",
       "    }\n",
       "</style>\n",
       "<table border=\"1\" class=\"dataframe\">\n",
       "  <thead>\n",
       "    <tr style=\"text-align: right;\">\n",
       "      <th></th>\n",
       "      <th>11:00:00 PM</th>\n",
       "      <th>12:00:00 AM</th>\n",
       "      <th>1:00:00 AM</th>\n",
       "      <th>2:00:00 AM</th>\n",
       "      <th>3:00:00 AM</th>\n",
       "      <th>4:00:00 AM</th>\n",
       "      <th>5:00:00 AM</th>\n",
       "      <th>6:00:00 AM</th>\n",
       "      <th>7:00:00 AM</th>\n",
       "      <th>8:00:00 AM</th>\n",
       "      <th>...</th>\n",
       "      <th>1:00:00 PM</th>\n",
       "      <th>2:00:00 PM</th>\n",
       "      <th>3:00:00 PM</th>\n",
       "      <th>4:00:00 PM</th>\n",
       "      <th>5:00:00 PM</th>\n",
       "      <th>6:00:00 PM</th>\n",
       "      <th>7:00:00 PM</th>\n",
       "      <th>8:00:00 PM</th>\n",
       "      <th>9:00:00 PM</th>\n",
       "      <th>10:00:00 PM</th>\n",
       "    </tr>\n",
       "  </thead>\n",
       "  <tbody>\n",
       "    <tr>\n",
       "      <th>LV</th>\n",
       "      <td>0.0079</td>\n",
       "      <td>0.0079</td>\n",
       "      <td>0.0079</td>\n",
       "      <td>0.0079</td>\n",
       "      <td>0.0079</td>\n",
       "      <td>0.0079</td>\n",
       "      <td>0.0079</td>\n",
       "      <td>0.0079</td>\n",
       "      <td>0.0079</td>\n",
       "      <td>0.0079</td>\n",
       "      <td>...</td>\n",
       "      <td>0.1700</td>\n",
       "      <td>0.1700</td>\n",
       "      <td>0.1700</td>\n",
       "      <td>0.0079</td>\n",
       "      <td>0.0079</td>\n",
       "      <td>0.0079</td>\n",
       "      <td>0.0079</td>\n",
       "      <td>0.0079</td>\n",
       "      <td>0.1700</td>\n",
       "      <td>0.1700</td>\n",
       "    </tr>\n",
       "    <tr>\n",
       "      <th>LL</th>\n",
       "      <td>0.0200</td>\n",
       "      <td>0.0200</td>\n",
       "      <td>0.0200</td>\n",
       "      <td>0.0000</td>\n",
       "      <td>0.0000</td>\n",
       "      <td>0.0000</td>\n",
       "      <td>0.0000</td>\n",
       "      <td>0.0000</td>\n",
       "      <td>0.0200</td>\n",
       "      <td>0.0671</td>\n",
       "      <td>...</td>\n",
       "      <td>0.0571</td>\n",
       "      <td>0.0571</td>\n",
       "      <td>0.0671</td>\n",
       "      <td>0.0671</td>\n",
       "      <td>0.0771</td>\n",
       "      <td>0.0771</td>\n",
       "      <td>0.0771</td>\n",
       "      <td>0.0671</td>\n",
       "      <td>0.0571</td>\n",
       "      <td>0.0571</td>\n",
       "    </tr>\n",
       "    <tr>\n",
       "      <th>SL</th>\n",
       "      <td>0.0000</td>\n",
       "      <td>0.0000</td>\n",
       "      <td>0.0000</td>\n",
       "      <td>0.0000</td>\n",
       "      <td>0.0000</td>\n",
       "      <td>0.0000</td>\n",
       "      <td>0.0000</td>\n",
       "      <td>0.0000</td>\n",
       "      <td>0.0000</td>\n",
       "      <td>0.0833</td>\n",
       "      <td>...</td>\n",
       "      <td>0.0833</td>\n",
       "      <td>0.0833</td>\n",
       "      <td>0.0000</td>\n",
       "      <td>0.0000</td>\n",
       "      <td>0.0833</td>\n",
       "      <td>0.0833</td>\n",
       "      <td>0.0833</td>\n",
       "      <td>0.0833</td>\n",
       "      <td>0.0833</td>\n",
       "      <td>0.0833</td>\n",
       "    </tr>\n",
       "    <tr>\n",
       "      <th>TV</th>\n",
       "      <td>0.0200</td>\n",
       "      <td>0.0029</td>\n",
       "      <td>0.0029</td>\n",
       "      <td>0.0029</td>\n",
       "      <td>0.0029</td>\n",
       "      <td>0.0029</td>\n",
       "      <td>0.0029</td>\n",
       "      <td>0.0029</td>\n",
       "      <td>0.0200</td>\n",
       "      <td>0.0300</td>\n",
       "      <td>...</td>\n",
       "      <td>0.0500</td>\n",
       "      <td>0.0100</td>\n",
       "      <td>0.0100</td>\n",
       "      <td>0.0100</td>\n",
       "      <td>0.0100</td>\n",
       "      <td>0.0500</td>\n",
       "      <td>0.1000</td>\n",
       "      <td>0.2500</td>\n",
       "      <td>0.1500</td>\n",
       "      <td>0.1000</td>\n",
       "    </tr>\n",
       "    <tr>\n",
       "      <th>FG1</th>\n",
       "      <td>0.0417</td>\n",
       "      <td>0.0417</td>\n",
       "      <td>0.0417</td>\n",
       "      <td>0.0417</td>\n",
       "      <td>0.0417</td>\n",
       "      <td>0.0417</td>\n",
       "      <td>0.0417</td>\n",
       "      <td>0.0417</td>\n",
       "      <td>0.0417</td>\n",
       "      <td>0.0417</td>\n",
       "      <td>...</td>\n",
       "      <td>0.0417</td>\n",
       "      <td>0.0417</td>\n",
       "      <td>0.0417</td>\n",
       "      <td>0.0417</td>\n",
       "      <td>0.0417</td>\n",
       "      <td>0.0417</td>\n",
       "      <td>0.0417</td>\n",
       "      <td>0.0417</td>\n",
       "      <td>0.0417</td>\n",
       "      <td>0.0417</td>\n",
       "    </tr>\n",
       "    <tr>\n",
       "      <th>CE1</th>\n",
       "      <td>0.0417</td>\n",
       "      <td>0.0417</td>\n",
       "      <td>0.0417</td>\n",
       "      <td>0.0417</td>\n",
       "      <td>0.0417</td>\n",
       "      <td>0.0417</td>\n",
       "      <td>0.0417</td>\n",
       "      <td>0.0417</td>\n",
       "      <td>0.0417</td>\n",
       "      <td>0.0417</td>\n",
       "      <td>...</td>\n",
       "      <td>0.0417</td>\n",
       "      <td>0.0417</td>\n",
       "      <td>0.0417</td>\n",
       "      <td>0.0417</td>\n",
       "      <td>0.0417</td>\n",
       "      <td>0.0417</td>\n",
       "      <td>0.0417</td>\n",
       "      <td>0.0417</td>\n",
       "      <td>0.0417</td>\n",
       "      <td>0.0417</td>\n",
       "    </tr>\n",
       "    <tr>\n",
       "      <th>CG</th>\n",
       "      <td>0.0417</td>\n",
       "      <td>0.0417</td>\n",
       "      <td>0.0417</td>\n",
       "      <td>0.0417</td>\n",
       "      <td>0.0417</td>\n",
       "      <td>0.0417</td>\n",
       "      <td>0.0417</td>\n",
       "      <td>0.0417</td>\n",
       "      <td>0.0417</td>\n",
       "      <td>0.0417</td>\n",
       "      <td>...</td>\n",
       "      <td>0.0417</td>\n",
       "      <td>0.0417</td>\n",
       "      <td>0.0417</td>\n",
       "      <td>0.0417</td>\n",
       "      <td>0.0417</td>\n",
       "      <td>0.0417</td>\n",
       "      <td>0.0417</td>\n",
       "      <td>0.0417</td>\n",
       "      <td>0.0417</td>\n",
       "      <td>0.0417</td>\n",
       "    </tr>\n",
       "    <tr>\n",
       "      <th>FO</th>\n",
       "      <td>0.0010</td>\n",
       "      <td>0.0010</td>\n",
       "      <td>0.0010</td>\n",
       "      <td>0.0010</td>\n",
       "      <td>0.0010</td>\n",
       "      <td>0.0010</td>\n",
       "      <td>0.0010</td>\n",
       "      <td>0.0010</td>\n",
       "      <td>0.0010</td>\n",
       "      <td>0.0010</td>\n",
       "      <td>...</td>\n",
       "      <td>0.1000</td>\n",
       "      <td>0.0150</td>\n",
       "      <td>0.0150</td>\n",
       "      <td>0.0150</td>\n",
       "      <td>0.0150</td>\n",
       "      <td>0.1000</td>\n",
       "      <td>0.2000</td>\n",
       "      <td>0.2000</td>\n",
       "      <td>0.1000</td>\n",
       "      <td>0.0010</td>\n",
       "    </tr>\n",
       "    <tr>\n",
       "      <th>PL</th>\n",
       "      <td>0.0025</td>\n",
       "      <td>0.0025</td>\n",
       "      <td>0.0025</td>\n",
       "      <td>0.0025</td>\n",
       "      <td>0.0025</td>\n",
       "      <td>0.0025</td>\n",
       "      <td>0.0025</td>\n",
       "      <td>0.0025</td>\n",
       "      <td>0.0500</td>\n",
       "      <td>0.0500</td>\n",
       "      <td>...</td>\n",
       "      <td>0.1500</td>\n",
       "      <td>0.0500</td>\n",
       "      <td>0.0160</td>\n",
       "      <td>0.0160</td>\n",
       "      <td>0.0160</td>\n",
       "      <td>0.0160</td>\n",
       "      <td>0.1000</td>\n",
       "      <td>0.1500</td>\n",
       "      <td>0.1000</td>\n",
       "      <td>0.0500</td>\n",
       "    </tr>\n",
       "    <tr>\n",
       "      <th>FG2</th>\n",
       "      <td>0.0417</td>\n",
       "      <td>0.0417</td>\n",
       "      <td>0.0417</td>\n",
       "      <td>0.0417</td>\n",
       "      <td>0.0417</td>\n",
       "      <td>0.0417</td>\n",
       "      <td>0.0417</td>\n",
       "      <td>0.0417</td>\n",
       "      <td>0.0417</td>\n",
       "      <td>0.0417</td>\n",
       "      <td>...</td>\n",
       "      <td>0.0417</td>\n",
       "      <td>0.0417</td>\n",
       "      <td>0.0417</td>\n",
       "      <td>0.0417</td>\n",
       "      <td>0.0417</td>\n",
       "      <td>0.0417</td>\n",
       "      <td>0.0417</td>\n",
       "      <td>0.0417</td>\n",
       "      <td>0.0417</td>\n",
       "      <td>0.0417</td>\n",
       "    </tr>\n",
       "    <tr>\n",
       "      <th>CE2</th>\n",
       "      <td>0.0417</td>\n",
       "      <td>0.0417</td>\n",
       "      <td>0.0417</td>\n",
       "      <td>0.0417</td>\n",
       "      <td>0.0417</td>\n",
       "      <td>0.0417</td>\n",
       "      <td>0.0417</td>\n",
       "      <td>0.0417</td>\n",
       "      <td>0.0417</td>\n",
       "      <td>0.0417</td>\n",
       "      <td>...</td>\n",
       "      <td>0.0417</td>\n",
       "      <td>0.0417</td>\n",
       "      <td>0.0417</td>\n",
       "      <td>0.0417</td>\n",
       "      <td>0.0417</td>\n",
       "      <td>0.0417</td>\n",
       "      <td>0.0417</td>\n",
       "      <td>0.0417</td>\n",
       "      <td>0.0417</td>\n",
       "      <td>0.0417</td>\n",
       "    </tr>\n",
       "  </tbody>\n",
       "</table>\n",
       "<p>11 rows × 24 columns</p>\n",
       "</div>"
      ],
      "text/plain": [
       "     11:00:00 PM  12:00:00 AM  1:00:00 AM  2:00:00 AM  3:00:00 AM  4:00:00 AM  \\\n",
       "LV        0.0079       0.0079      0.0079      0.0079      0.0079      0.0079   \n",
       "LL        0.0200       0.0200      0.0200      0.0000      0.0000      0.0000   \n",
       "SL        0.0000       0.0000      0.0000      0.0000      0.0000      0.0000   \n",
       "TV        0.0200       0.0029      0.0029      0.0029      0.0029      0.0029   \n",
       "FG1       0.0417       0.0417      0.0417      0.0417      0.0417      0.0417   \n",
       "CE1       0.0417       0.0417      0.0417      0.0417      0.0417      0.0417   \n",
       "CG        0.0417       0.0417      0.0417      0.0417      0.0417      0.0417   \n",
       "FO        0.0010       0.0010      0.0010      0.0010      0.0010      0.0010   \n",
       "PL        0.0025       0.0025      0.0025      0.0025      0.0025      0.0025   \n",
       "FG2       0.0417       0.0417      0.0417      0.0417      0.0417      0.0417   \n",
       "CE2       0.0417       0.0417      0.0417      0.0417      0.0417      0.0417   \n",
       "\n",
       "     5:00:00 AM  6:00:00 AM  7:00:00 AM  8:00:00 AM  ...  1:00:00 PM  \\\n",
       "LV       0.0079      0.0079      0.0079      0.0079  ...      0.1700   \n",
       "LL       0.0000      0.0000      0.0200      0.0671  ...      0.0571   \n",
       "SL       0.0000      0.0000      0.0000      0.0833  ...      0.0833   \n",
       "TV       0.0029      0.0029      0.0200      0.0300  ...      0.0500   \n",
       "FG1      0.0417      0.0417      0.0417      0.0417  ...      0.0417   \n",
       "CE1      0.0417      0.0417      0.0417      0.0417  ...      0.0417   \n",
       "CG       0.0417      0.0417      0.0417      0.0417  ...      0.0417   \n",
       "FO       0.0010      0.0010      0.0010      0.0010  ...      0.1000   \n",
       "PL       0.0025      0.0025      0.0500      0.0500  ...      0.1500   \n",
       "FG2      0.0417      0.0417      0.0417      0.0417  ...      0.0417   \n",
       "CE2      0.0417      0.0417      0.0417      0.0417  ...      0.0417   \n",
       "\n",
       "     2:00:00 PM  3:00:00 PM  4:00:00 PM  5:00:00 PM  6:00:00 PM  7:00:00 PM  \\\n",
       "LV       0.1700      0.1700      0.0079      0.0079      0.0079      0.0079   \n",
       "LL       0.0571      0.0671      0.0671      0.0771      0.0771      0.0771   \n",
       "SL       0.0833      0.0000      0.0000      0.0833      0.0833      0.0833   \n",
       "TV       0.0100      0.0100      0.0100      0.0100      0.0500      0.1000   \n",
       "FG1      0.0417      0.0417      0.0417      0.0417      0.0417      0.0417   \n",
       "CE1      0.0417      0.0417      0.0417      0.0417      0.0417      0.0417   \n",
       "CG       0.0417      0.0417      0.0417      0.0417      0.0417      0.0417   \n",
       "FO       0.0150      0.0150      0.0150      0.0150      0.1000      0.2000   \n",
       "PL       0.0500      0.0160      0.0160      0.0160      0.0160      0.1000   \n",
       "FG2      0.0417      0.0417      0.0417      0.0417      0.0417      0.0417   \n",
       "CE2      0.0417      0.0417      0.0417      0.0417      0.0417      0.0417   \n",
       "\n",
       "     8:00:00 PM  9:00:00 PM  10:00:00 PM  \n",
       "LV       0.0079      0.1700       0.1700  \n",
       "LL       0.0671      0.0571       0.0571  \n",
       "SL       0.0833      0.0833       0.0833  \n",
       "TV       0.2500      0.1500       0.1000  \n",
       "FG1      0.0417      0.0417       0.0417  \n",
       "CE1      0.0417      0.0417       0.0417  \n",
       "CG       0.0417      0.0417       0.0417  \n",
       "FO       0.2000      0.1000       0.0010  \n",
       "PL       0.1500      0.1000       0.0500  \n",
       "FG2      0.0417      0.0417       0.0417  \n",
       "CE2      0.0417      0.0417       0.0417  \n",
       "\n",
       "[11 rows x 24 columns]"
      ]
     },
     "execution_count": 30,
     "metadata": {},
     "output_type": "execute_result"
    }
   ],
   "source": [
    "planning3 = pd.read_csv(\"planning/planning +LVLLSL2.csv\", index_col=['Unnamed: 0']) #planning of each home appliance + variables to optimize\n",
    "planning3"
   ]
  },
  {
   "cell_type": "code",
   "execution_count": 36,
   "metadata": {},
   "outputs": [],
   "source": [
    "tmp = df\n",
    "tmp[heures] = 0\n",
    "conso3 = tmp[heures]"
   ]
  },
  {
   "cell_type": "code",
   "execution_count": 37,
   "metadata": {},
   "outputs": [
    {
     "name": "stderr",
     "output_type": "stream",
     "text": [
      "/tmp/ipykernel_20530/2659698742.py:6: SettingWithCopyWarning:\n",
      "\n",
      "\n",
      "A value is trying to be set on a copy of a slice from a DataFrame\n",
      "\n",
      "See the caveats in the documentation: https://pandas.pydata.org/pandas-docs/stable/user_guide/indexing.html#returning-a-view-versus-a-copy\n",
      "\n"
     ]
    }
   ],
   "source": [
    "for c in conso3.index:\n",
    "    for i in heures:\n",
    "        sum = 0\n",
    "        for a in electro2:\n",
    "            sum = sum + tmp[a].loc[c] * electro2[a] * planning3[i].loc[a]\n",
    "        conso3[i].loc[c] = sum"
   ]
  },
  {
   "cell_type": "code",
   "execution_count": 38,
   "metadata": {},
   "outputs": [
    {
     "data": {
      "text/plain": [
       "<AxesSubplot:>"
      ]
     },
     "execution_count": 38,
     "metadata": {},
     "output_type": "execute_result"
    },
    {
     "data": {
      "image/png": "[encoded data removed]",
      "text/plain": [
       "<Figure size 640x480 with 1 Axes>"
      ]
     },
     "metadata": {},
     "output_type": "display_data"
    }
   ],
   "source": [
    "conso3.mean(axis=0).plot()"
   ]
  },
  {
   "cell_type": "code",
   "execution_count": 39,
   "metadata": {},
   "outputs": [],
   "source": [
    "conso3.to_csv('conso/conso3.csv')"
   ]
  },
  {
   "cell_type": "code",
   "execution_count": 40,
   "metadata": {},
   "outputs": [],
   "source": [
    "conso = pd.read_csv('conso/conso.csv',index_col=\"Type\")\n",
    "conso2 = pd.read_csv('conso/conso2.csv',index_col=\"Type\")\n",
    "conso3 = pd.read_csv('conso/conso3.csv',index_col=\"Type\")\n",
    "\n",
    "consoDF = pd.DataFrame(data=[conso.mean(axis=0),conso2.mean(axis=0),conso3.mean(axis=0)],index=[\"Withtout LV LL SL\",\"LV LL SL averaged\",\"LV LL SL logical\"])\n"
   ]
  },
  {
   "cell_type": "code",
   "execution_count": 41,
   "metadata": {},
   "outputs": [],
   "source": [
    "consoDF.to_csv('conso/consoDF.csv')"
   ]
  },
  {
   "cell_type": "code",
   "execution_count": 42,
   "metadata": {},
   "outputs": [
    {
     "data": {
      "application/vnd.plotly.v1+json": {
       "config": {
        "plotlyServerURL": "https://plot.ly"
       },
       "data": [
        {
         "hovertemplate": "index=Withtout LV LL SL<br>variable=%{x}<br>value=%{y}<extra></extra>",
         "legendgroup": "Withtout LV LL SL",
         "line": {
          "color": "#636efa",
          "dash": "solid"
         },
         "marker": {
          "symbol": "circle"
         },
         "mode": "lines",
         "name": "Withtout LV LL SL",
         "orientation": "v",
         "showlegend": true,
         "type": "scatter",
         "x": [
          "11:00:00 PM",
          "12:00:00 AM",
          "1:00:00 AM",
          "2:00:00 AM",
          "3:00:00 AM",
          "4:00:00 AM",
          "5:00:00 AM",
          "6:00:00 AM",
          "7:00:00 AM",
          "8:00:00 AM",
          "9:00:00 AM",
          "10:00:00 AM",
          "11:00:00 AM",
          "12:00:00 PM",
          "1:00:00 PM",
          "2:00:00 PM",
          "3:00:00 PM",
          "4:00:00 PM",
          "5:00:00 PM",
          "6:00:00 PM",
          "7:00:00 PM",
          "8:00:00 PM",
          "9:00:00 PM",
          "10:00:00 PM"
         ],
         "xaxis": "x",
         "y": [
          0.8211820852417918,
          0.8148680868810568,
          0.8148680868810568,
          0.8148680868810568,
          0.8148680868810568,
          0.8148680868810568,
          0.8148680868810568,
          0.8148680868810568,
          0.8584716807289908,
          0.862164077431175,
          0.8657532631020683,
          0.8390617631743889,
          0.9471505800106069,
          1.0048647692975268,
          1.0256549915626054,
          0.8657532631020683,
          0.8390617631743889,
          0.8390617631743889,
          0.8390617631743889,
          0.9204590800829275,
          1.0832503341208235,
          1.177888490429584,
          1.0233267528084469,
          0.8880108543464635
         ],
         "yaxis": "y"
        },
        {
         "hovertemplate": "index=LV LL SL averaged<br>variable=%{x}<br>value=%{y}<extra></extra>",
         "legendgroup": "LV LL SL averaged",
         "line": {
          "color": "#EF553B",
          "dash": "solid"
         },
         "marker": {
          "symbol": "circle"
         },
         "mode": "lines",
         "name": "LV LL SL averaged",
         "orientation": "v",
         "showlegend": true,
         "type": "scatter",
         "x": [
          "11:00:00 PM",
          "12:00:00 AM",
          "1:00:00 AM",
          "2:00:00 AM",
          "3:00:00 AM",
          "4:00:00 AM",
          "5:00:00 AM",
          "6:00:00 AM",
          "7:00:00 AM",
          "8:00:00 AM",
          "9:00:00 AM",
          "10:00:00 AM",
          "11:00:00 AM",
          "12:00:00 PM",
          "1:00:00 PM",
          "2:00:00 PM",
          "3:00:00 PM",
          "4:00:00 PM",
          "5:00:00 PM",
          "6:00:00 PM",
          "7:00:00 PM",
          "8:00:00 PM",
          "9:00:00 PM",
          "10:00:00 PM"
         ],
         "xaxis": "x",
         "y": [
          0.8835828249361168,
          0.8772688265753822,
          0.8772688265753822,
          0.8772688265753822,
          0.8772688265753822,
          0.8772688265753822,
          0.8772688265753822,
          0.8772688265753822,
          0.9208724204233161,
          0.9245648171255003,
          0.9281540027963935,
          0.901462502868714,
          1.0095513197049322,
          1.0672655089918517,
          1.0880557312569306,
          0.9281540027963935,
          0.901462502868714,
          0.901462502868714,
          0.901462502868714,
          0.9828598197772528,
          1.1456510738151489,
          1.2402892301239092,
          1.0857274925027722,
          0.9504115940407888
         ],
         "yaxis": "y"
        },
        {
         "hovertemplate": "index=LV LL SL logical<br>variable=%{x}<br>value=%{y}<extra></extra>",
         "legendgroup": "LV LL SL logical",
         "line": {
          "color": "#00cc96",
          "dash": "solid"
         },
         "marker": {
          "symbol": "circle"
         },
         "mode": "lines",
         "name": "LV LL SL logical",
         "orientation": "v",
         "showlegend": true,
         "type": "scatter",
         "x": [
          "11:00:00 PM",
          "12:00:00 AM",
          "1:00:00 AM",
          "2:00:00 AM",
          "3:00:00 AM",
          "4:00:00 AM",
          "5:00:00 AM",
          "6:00:00 AM",
          "7:00:00 AM",
          "8:00:00 AM",
          "9:00:00 AM",
          "10:00:00 AM",
          "11:00:00 AM",
          "12:00:00 PM",
          "1:00:00 PM",
          "2:00:00 PM",
          "3:00:00 PM",
          "4:00:00 PM",
          "5:00:00 PM",
          "6:00:00 PM",
          "7:00:00 PM",
          "8:00:00 PM",
          "9:00:00 PM",
          "10:00:00 PM"
         ],
         "xaxis": "x",
         "y": [
          0.8352747186731596,
          0.8289607203124247,
          0.8289607203124247,
          0.8197278000096428,
          0.8197278000096428,
          0.8197278000096428,
          0.8197278000096428,
          0.8197278000096428,
          0.8725643141603587,
          0.9329546708451859,
          0.9319273963646882,
          0.9052358964370087,
          1.0133247132732268,
          1.0710389025601466,
          1.1915455169953233,
          1.0316437885347862,
          0.9746143160889061,
          0.874897923918808,
          0.9144688167397906,
          0.9958661336483294,
          1.1586573876862252,
          1.2486790838435946,
          1.1892172782411647,
          1.0539013797791812
         ],
         "yaxis": "y"
        }
       ],
       "layout": {
        "legend": {
         "title": {
          "text": ""
         },
         "tracegroupgap": 0
        },
        "margin": {
         "t": 60
        },
        "template": {
         "data": {
          "bar": [
           {
            "error_x": {
             "color": "#2a3f5f"
            },
            "error_y": {
             "color": "#2a3f5f"
            },
            "marker": {
             "line": {
              "color": "#E5ECF6",
              "width": 0.5
             },
             "pattern": {
              "fillmode": "overlay",
              "size": 10,
              "solidity": 0.2
             }
            },
            "type": "bar"
           }
          ],
          "barpolar": [
           {
            "marker": {
             "line": {
              "color": "#E5ECF6",
              "width": 0.5
             },
             "pattern": {
              "fillmode": "overlay",
              "size": 10,
              "solidity": 0.2
             }
            },
            "type": "barpolar"
           }
          ],
          "carpet": [
           {
            "aaxis": {
             "endlinecolor": "#2a3f5f",
             "gridcolor": "white",
             "linecolor": "white",
             "minorgridcolor": "white",
             "startlinecolor": "#2a3f5f"
            },
            "baxis": {
             "endlinecolor": "#2a3f5f",
             "gridcolor": "white",
             "linecolor": "white",
             "minorgridcolor": "white",
             "startlinecolor": "#2a3f5f"
            },
            "type": "carpet"
           }
          ],
          "choropleth": [
           {
            "colorbar": {
             "outlinewidth": 0,
             "ticks": ""
            },
            "type": "choropleth"
           }
          ],
          "contour": [
           {
            "colorbar": {
             "outlinewidth": 0,
             "ticks": ""
            },
            "colorscale": [
             [
              0,
              "#0d0887"
             ],
             [
              0.1111111111111111,
              "#46039f"
             ],
             [
              0.2222222222222222,
              "#7201a8"
             ],
             [
              0.3333333333333333,
              "#9c179e"
             ],
             [
              0.4444444444444444,
              "#bd3786"
             ],
             [
              0.5555555555555556,
              "#d8576b"
             ],
             [
              0.6666666666666666,
              "#ed7953"
             ],
             [
              0.7777777777777778,
              "#fb9f3a"
             ],
             [
              0.8888888888888888,
              "#fdca26"
             ],
             [
              1,
              "#f0f921"
             ]
            ],
            "type": "contour"
           }
          ],
          "contourcarpet": [
           {
            "colorbar": {
             "outlinewidth": 0,
             "ticks": ""
            },
            "type": "contourcarpet"
           }
          ],
          "heatmap": [
           {
            "colorbar": {
             "outlinewidth": 0,
             "ticks": ""
            },
            "colorscale": [
             [
              0,
              "#0d0887"
             ],
             [
              0.1111111111111111,
              "#46039f"
             ],
             [
              0.2222222222222222,
              "#7201a8"
             ],
             [
              0.3333333333333333,
              "#9c179e"
             ],
             [
              0.4444444444444444,
              "#bd3786"
             ],
             [
              0.5555555555555556,
              "#d8576b"
             ],
             [
              0.6666666666666666,
              "#ed7953"
             ],
             [
              0.7777777777777778,
              "#fb9f3a"
             ],
             [
              0.8888888888888888,
              "#fdca26"
             ],
             [
              1,
              "#f0f921"
             ]
            ],
            "type": "heatmap"
           }
          ],
          "heatmapgl": [
           {
            "colorbar": {
             "outlinewidth": 0,
             "ticks": ""
            },
            "colorscale": [
             [
              0,
              "#0d0887"
             ],
             [
              0.1111111111111111,
              "#46039f"
             ],
             [
              0.2222222222222222,
              "#7201a8"
             ],
             [
              0.3333333333333333,
              "#9c179e"
             ],
             [
              0.4444444444444444,
              "#bd3786"
             ],
             [
              0.5555555555555556,
              "#d8576b"
             ],
             [
              0.6666666666666666,
              "#ed7953"
             ],
             [
              0.7777777777777778,
              "#fb9f3a"
             ],
             [
              0.8888888888888888,
              "#fdca26"
             ],
             [
              1,
              "#f0f921"
             ]
            ],
            "type": "heatmapgl"
           }
          ],
          "histogram": [
           {
            "marker": {
             "pattern": {
              "fillmode": "overlay",
              "size": 10,
              "solidity": 0.2
             }
            },
            "type": "histogram"
           }
          ],
          "histogram2d": [
           {
            "colorbar": {
             "outlinewidth": 0,
             "ticks": ""
            },
            "colorscale": [
             [
              0,
              "#0d0887"
             ],
             [
              0.1111111111111111,
              "#46039f"
             ],
             [
              0.2222222222222222,
              "#7201a8"
             ],
             [
              0.3333333333333333,
              "#9c179e"
             ],
             [
              0.4444444444444444,
              "#bd3786"
             ],
             [
              0.5555555555555556,
              "#d8576b"
             ],
             [
              0.6666666666666666,
              "#ed7953"
             ],
             [
              0.7777777777777778,
              "#fb9f3a"
             ],
             [
              0.8888888888888888,
              "#fdca26"
             ],
             [
              1,
              "#f0f921"
             ]
            ],
            "type": "histogram2d"
           }
          ],
          "histogram2dcontour": [
           {
            "colorbar": {
             "outlinewidth": 0,
             "ticks": ""
            },
            "colorscale": [
             [
              0,
              "#0d0887"
             ],
             [
              0.1111111111111111,
              "#46039f"
             ],
             [
              0.2222222222222222,
              "#7201a8"
             ],
             [
              0.3333333333333333,
              "#9c179e"
             ],
             [
              0.4444444444444444,
              "#bd3786"
             ],
             [
              0.5555555555555556,
              "#d8576b"
             ],
             [
              0.6666666666666666,
              "#ed7953"
             ],
             [
              0.7777777777777778,
              "#fb9f3a"
             ],
             [
              0.8888888888888888,
              "#fdca26"
             ],
             [
              1,
              "#f0f921"
             ]
            ],
            "type": "histogram2dcontour"
           }
          ],
          "mesh3d": [
           {
            "colorbar": {
             "outlinewidth": 0,
             "ticks": ""
            },
            "type": "mesh3d"
           }
          ],
          "parcoords": [
           {
            "line": {
             "colorbar": {
              "outlinewidth": 0,
              "ticks": ""
             }
            },
            "type": "parcoords"
           }
          ],
          "pie": [
           {
            "automargin": true,
            "type": "pie"
           }
          ],
          "scatter": [
           {
            "fillpattern": {
             "fillmode": "overlay",
             "size": 10,
             "solidity": 0.2
            },
            "type": "scatter"
           }
          ],
          "scatter3d": [
           {
            "line": {
             "colorbar": {
              "outlinewidth": 0,
              "ticks": ""
             }
            },
            "marker": {
             "colorbar": {
              "outlinewidth": 0,
              "ticks": ""
             }
            },
            "type": "scatter3d"
           }
          ],
          "scattercarpet": [
           {
            "marker": {
             "colorbar": {
              "outlinewidth": 0,
              "ticks": ""
             }
            },
            "type": "scattercarpet"
           }
          ],
          "scattergeo": [
           {
            "marker": {
             "colorbar": {
              "outlinewidth": 0,
              "ticks": ""
             }
            },
            "type": "scattergeo"
           }
          ],
          "scattergl": [
           {
            "marker": {
             "colorbar": {
              "outlinewidth": 0,
              "ticks": ""
             }
            },
            "type": "scattergl"
           }
          ],
          "scattermapbox": [
           {
            "marker": {
             "colorbar": {
              "outlinewidth": 0,
              "ticks": ""
             }
            },
            "type": "scattermapbox"
           }
          ],
          "scatterpolar": [
           {
            "marker": {
             "colorbar": {
              "outlinewidth": 0,
              "ticks": ""
             }
            },
            "type": "scatterpolar"
           }
          ],
          "scatterpolargl": [
           {
            "marker": {
             "colorbar": {
              "outlinewidth": 0,
              "ticks": ""
             }
            },
            "type": "scatterpolargl"
           }
          ],
          "scatterternary": [
           {
            "marker": {
             "colorbar": {
              "outlinewidth": 0,
              "ticks": ""
             }
            },
            "type": "scatterternary"
           }
          ],
          "surface": [
           {
            "colorbar": {
             "outlinewidth": 0,
             "ticks": ""
            },
            "colorscale": [
             [
              0,
              "#0d0887"
             ],
             [
              0.1111111111111111,
              "#46039f"
             ],
             [
              0.2222222222222222,
              "#7201a8"
             ],
             [
              0.3333333333333333,
              "#9c179e"
             ],
             [
              0.4444444444444444,
              "#bd3786"
             ],
             [
              0.5555555555555556,
              "#d8576b"
             ],
             [
              0.6666666666666666,
              "#ed7953"
             ],
             [
              0.7777777777777778,
              "#fb9f3a"
             ],
             [
              0.8888888888888888,
              "#fdca26"
             ],
             [
              1,
              "#f0f921"
             ]
            ],
            "type": "surface"
           }
          ],
          "table": [
           {
            "cells": {
             "fill": {
              "color": "#EBF0F8"
             },
             "line": {
              "color": "white"
             }
            },
            "header": {
             "fill": {
              "color": "#C8D4E3"
             },
             "line": {
              "color": "white"
             }
            },
            "type": "table"
           }
          ]
         },
         "layout": {
          "annotationdefaults": {
           "arrowcolor": "#2a3f5f",
           "arrowhead": 0,
           "arrowwidth": 1
          },
          "autotypenumbers": "strict",
          "coloraxis": {
           "colorbar": {
            "outlinewidth": 0,
            "ticks": ""
           }
          },
          "colorscale": {
           "diverging": [
            [
             0,
             "#8e0152"
            ],
            [
             0.1,
             "#c51b7d"
            ],
            [
             0.2,
             "#de77ae"
            ],
            [
             0.3,
             "#f1b6da"
            ],
            [
             0.4,
             "#fde0ef"
            ],
            [
             0.5,
             "#f7f7f7"
            ],
            [
             0.6,
             "#e6f5d0"
            ],
            [
             0.7,
             "#b8e186"
            ],
            [
             0.8,
             "#7fbc41"
            ],
            [
             0.9,
             "#4d9221"
            ],
            [
             1,
             "#276419"
            ]
           ],
           "sequential": [
            [
             0,
             "#0d0887"
            ],
            [
             0.1111111111111111,
             "#46039f"
            ],
            [
             0.2222222222222222,
             "#7201a8"
            ],
            [
             0.3333333333333333,
             "#9c179e"
            ],
            [
             0.4444444444444444,
             "#bd3786"
            ],
            [
             0.5555555555555556,
             "#d8576b"
            ],
            [
             0.6666666666666666,
             "#ed7953"
            ],
            [
             0.7777777777777778,
             "#fb9f3a"
            ],
            [
             0.8888888888888888,
             "#fdca26"
            ],
            [
             1,
             "#f0f921"
            ]
           ],
           "sequentialminus": [
            [
             0,
             "#0d0887"
            ],
            [
             0.1111111111111111,
             "#46039f"
            ],
            [
             0.2222222222222222,
             "#7201a8"
            ],
            [
             0.3333333333333333,
             "#9c179e"
            ],
            [
             0.4444444444444444,
             "#bd3786"
            ],
            [
             0.5555555555555556,
             "#d8576b"
            ],
            [
             0.6666666666666666,
             "#ed7953"
            ],
            [
             0.7777777777777778,
             "#fb9f3a"
            ],
            [
             0.8888888888888888,
             "#fdca26"
            ],
            [
             1,
             "#f0f921"
            ]
           ]
          },
          "colorway": [
           "#636efa",
           "#EF553B",
           "#00cc96",
           "#ab63fa",
           "#FFA15A",
           "#19d3f3",
           "#FF6692",
           "#B6E880",
           "#FF97FF",
           "#FECB52"
          ],
          "font": {
           "color": "#2a3f5f"
          },
          "geo": {
           "bgcolor": "white",
           "lakecolor": "white",
           "landcolor": "#E5ECF6",
           "showlakes": true,
           "showland": true,
           "subunitcolor": "white"
          },
          "hoverlabel": {
           "align": "left"
          },
          "hovermode": "closest",
          "mapbox": {
           "style": "light"
          },
          "paper_bgcolor": "white",
          "plot_bgcolor": "#E5ECF6",
          "polar": {
           "angularaxis": {
            "gridcolor": "white",
            "linecolor": "white",
            "ticks": ""
           },
           "bgcolor": "#E5ECF6",
           "radialaxis": {
            "gridcolor": "white",
            "linecolor": "white",
            "ticks": ""
           }
          },
          "scene": {
           "xaxis": {
            "backgroundcolor": "#E5ECF6",
            "gridcolor": "white",
            "gridwidth": 2,
            "linecolor": "white",
            "showbackground": true,
            "ticks": "",
            "zerolinecolor": "white"
           },
           "yaxis": {
            "backgroundcolor": "#E5ECF6",
            "gridcolor": "white",
            "gridwidth": 2,
            "linecolor": "white",
            "showbackground": true,
            "ticks": "",
            "zerolinecolor": "white"
           },
           "zaxis": {
            "backgroundcolor": "#E5ECF6",
            "gridcolor": "white",
            "gridwidth": 2,
            "linecolor": "white",
            "showbackground": true,
            "ticks": "",
            "zerolinecolor": "white"
           }
          },
          "shapedefaults": {
           "line": {
            "color": "#2a3f5f"
           }
          },
          "ternary": {
           "aaxis": {
            "gridcolor": "white",
            "linecolor": "white",
            "ticks": ""
           },
           "baxis": {
            "gridcolor": "white",
            "linecolor": "white",
            "ticks": ""
           },
           "bgcolor": "#E5ECF6",
           "caxis": {
            "gridcolor": "white",
            "linecolor": "white",
            "ticks": ""
           }
          },
          "title": {
           "x": 0.05
          },
          "xaxis": {
           "automargin": true,
           "gridcolor": "white",
           "linecolor": "white",
           "ticks": "",
           "title": {
            "standoff": 15
           },
           "zerolinecolor": "white",
           "zerolinewidth": 2
          },
          "yaxis": {
           "automargin": true,
           "gridcolor": "white",
           "linecolor": "white",
           "ticks": "",
           "title": {
            "standoff": 15
           },
           "zerolinecolor": "white",
           "zerolinewidth": 2
          }
         }
        },
        "title": {
         "text": "Averaged daily electrical comsuption per habitation"
        },
        "xaxis": {
         "anchor": "y",
         "domain": [
          0,
          1
         ],
         "title": {
          "text": "Time"
         }
        },
        "yaxis": {
         "anchor": "x",
         "domain": [
          0,
          1
         ],
         "title": {
          "text": "kW"
         }
        }
       }
      }
     },
     "metadata": {},
     "output_type": "display_data"
    }
   ],
   "source": [
    "import plotly.express as px\n",
    "\n",
    "consoDFmelt = consoDF.melt(ignore_index=False)\n",
    "fig = px.line(consoDFmelt, x=\"variable\", y=\"value\", color=consoDFmelt.index)\n",
    "\n",
    "fig.update_layout(\n",
    "    title=\"Averaged daily electrical comsuption per habitation\",\n",
    "    xaxis_title=\"Time\",\n",
    "    yaxis_title=\"kW\",\n",
    "    legend_title=\"\",\n",
    ")\n",
    "\n",
    "fig.show()"
   ]
  }
 ],
 "metadata": {
  "kernelspec": {
   "display_name": "Python 3",
   "language": "python",
   "name": "python3"
  },
  "language_info": {
   "codemirror_mode": {
    "name": "ipython",
    "version": 3
   },
   "file_extension": ".py",
   "mimetype": "text/x-python",
   "name": "python",
   "nbconvert_exporter": "python",
   "pygments_lexer": "ipython3",
   "version": "3.8.10"
  },
  "orig_nbformat": 4,
  "vscode": {
   "interpreter": {
    "hash": "31f2aee4e71d21fbe5cf8b01ff0e069b9275f58929596ceb00d14d90e3e16cd6"
   }
  }
 },
 "nbformat": 4,
 "nbformat_minor": 2
}
