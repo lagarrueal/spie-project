{
 "cells": [
  {
   "cell_type": "code",
   "execution_count": 13,
   "metadata": {},
   "outputs": [],
   "source": [
    "import tensorflow as tf\n",
    "import pandas as pd\n",
    "import numpy as np\n",
    "import matplotlib.pyplot as plt\n",
    "from sklearn.preprocessing import MinMaxScaler, LabelEncoder\n",
    "import joblib"
   ]
  },
  {
   "cell_type": "code",
   "execution_count": 2,
   "metadata": {},
   "outputs": [],
   "source": [
    "df = pd.read_csv('../../data/dataframes/df.csv')"
   ]
  },
  {
   "cell_type": "code",
   "execution_count": 3,
   "metadata": {},
   "outputs": [
    {
     "data": {
      "text/html": [
       "<div>\n",
       "<style scoped>\n",
       "    .dataframe tbody tr th:only-of-type {\n",
       "        vertical-align: middle;\n",
       "    }\n",
       "\n",
       "    .dataframe tbody tr th {\n",
       "        vertical-align: top;\n",
       "    }\n",
       "\n",
       "    .dataframe thead th {\n",
       "        text-align: right;\n",
       "    }\n",
       "</style>\n",
       "<table border=\"1\" class=\"dataframe\">\n",
       "  <thead>\n",
       "    <tr style=\"text-align: right;\">\n",
       "      <th></th>\n",
       "      <th>timestamp</th>\n",
       "      <th>consommation</th>\n",
       "      <th>day</th>\n",
       "      <th>month</th>\n",
       "      <th>h_surface</th>\n",
       "      <th>nb_people</th>\n",
       "      <th>h_ref</th>\n",
       "      <th>h_type_A</th>\n",
       "      <th>h_type_M</th>\n",
       "    </tr>\n",
       "  </thead>\n",
       "  <tbody>\n",
       "    <tr>\n",
       "      <th>0</th>\n",
       "      <td>1</td>\n",
       "      <td>0.7114</td>\n",
       "      <td>14</td>\n",
       "      <td>12</td>\n",
       "      <td>110</td>\n",
       "      <td>5</td>\n",
       "      <td>362</td>\n",
       "      <td>1</td>\n",
       "      <td>0</td>\n",
       "    </tr>\n",
       "    <tr>\n",
       "      <th>1</th>\n",
       "      <td>2</td>\n",
       "      <td>0.7147</td>\n",
       "      <td>14</td>\n",
       "      <td>12</td>\n",
       "      <td>110</td>\n",
       "      <td>5</td>\n",
       "      <td>362</td>\n",
       "      <td>1</td>\n",
       "      <td>0</td>\n",
       "    </tr>\n",
       "    <tr>\n",
       "      <th>2</th>\n",
       "      <td>3</td>\n",
       "      <td>0.9611</td>\n",
       "      <td>14</td>\n",
       "      <td>12</td>\n",
       "      <td>110</td>\n",
       "      <td>5</td>\n",
       "      <td>362</td>\n",
       "      <td>1</td>\n",
       "      <td>0</td>\n",
       "    </tr>\n",
       "    <tr>\n",
       "      <th>3</th>\n",
       "      <td>4</td>\n",
       "      <td>0.9352</td>\n",
       "      <td>14</td>\n",
       "      <td>12</td>\n",
       "      <td>110</td>\n",
       "      <td>5</td>\n",
       "      <td>362</td>\n",
       "      <td>1</td>\n",
       "      <td>0</td>\n",
       "    </tr>\n",
       "    <tr>\n",
       "      <th>4</th>\n",
       "      <td>5</td>\n",
       "      <td>0.8509</td>\n",
       "      <td>14</td>\n",
       "      <td>12</td>\n",
       "      <td>110</td>\n",
       "      <td>5</td>\n",
       "      <td>362</td>\n",
       "      <td>1</td>\n",
       "      <td>0</td>\n",
       "    </tr>\n",
       "    <tr>\n",
       "      <th>...</th>\n",
       "      <td>...</td>\n",
       "      <td>...</td>\n",
       "      <td>...</td>\n",
       "      <td>...</td>\n",
       "      <td>...</td>\n",
       "      <td>...</td>\n",
       "      <td>...</td>\n",
       "      <td>...</td>\n",
       "      <td>...</td>\n",
       "    </tr>\n",
       "    <tr>\n",
       "      <th>13465915</th>\n",
       "      <td>44</td>\n",
       "      <td>0.4626</td>\n",
       "      <td>1</td>\n",
       "      <td>1</td>\n",
       "      <td>50</td>\n",
       "      <td>2</td>\n",
       "      <td>15</td>\n",
       "      <td>1</td>\n",
       "      <td>0</td>\n",
       "    </tr>\n",
       "    <tr>\n",
       "      <th>13465916</th>\n",
       "      <td>45</td>\n",
       "      <td>0.4135</td>\n",
       "      <td>1</td>\n",
       "      <td>1</td>\n",
       "      <td>50</td>\n",
       "      <td>2</td>\n",
       "      <td>15</td>\n",
       "      <td>1</td>\n",
       "      <td>0</td>\n",
       "    </tr>\n",
       "    <tr>\n",
       "      <th>13465917</th>\n",
       "      <td>46</td>\n",
       "      <td>0.5193</td>\n",
       "      <td>1</td>\n",
       "      <td>1</td>\n",
       "      <td>50</td>\n",
       "      <td>2</td>\n",
       "      <td>15</td>\n",
       "      <td>1</td>\n",
       "      <td>0</td>\n",
       "    </tr>\n",
       "    <tr>\n",
       "      <th>13465918</th>\n",
       "      <td>47</td>\n",
       "      <td>0.3598</td>\n",
       "      <td>1</td>\n",
       "      <td>1</td>\n",
       "      <td>50</td>\n",
       "      <td>2</td>\n",
       "      <td>15</td>\n",
       "      <td>1</td>\n",
       "      <td>0</td>\n",
       "    </tr>\n",
       "    <tr>\n",
       "      <th>13465919</th>\n",
       "      <td>48</td>\n",
       "      <td>0.3690</td>\n",
       "      <td>1</td>\n",
       "      <td>1</td>\n",
       "      <td>50</td>\n",
       "      <td>2</td>\n",
       "      <td>15</td>\n",
       "      <td>1</td>\n",
       "      <td>0</td>\n",
       "    </tr>\n",
       "  </tbody>\n",
       "</table>\n",
       "<p>13465920 rows × 9 columns</p>\n",
       "</div>"
      ],
      "text/plain": [
       "          timestamp  consommation  day  month  h_surface  nb_people  h_ref  \\\n",
       "0                 1        0.7114   14     12        110          5    362   \n",
       "1                 2        0.7147   14     12        110          5    362   \n",
       "2                 3        0.9611   14     12        110          5    362   \n",
       "3                 4        0.9352   14     12        110          5    362   \n",
       "4                 5        0.8509   14     12        110          5    362   \n",
       "...             ...           ...  ...    ...        ...        ...    ...   \n",
       "13465915         44        0.4626    1      1         50          2     15   \n",
       "13465916         45        0.4135    1      1         50          2     15   \n",
       "13465917         46        0.5193    1      1         50          2     15   \n",
       "13465918         47        0.3598    1      1         50          2     15   \n",
       "13465919         48        0.3690    1      1         50          2     15   \n",
       "\n",
       "          h_type_A  h_type_M  \n",
       "0                1         0  \n",
       "1                1         0  \n",
       "2                1         0  \n",
       "3                1         0  \n",
       "4                1         0  \n",
       "...            ...       ...  \n",
       "13465915         1         0  \n",
       "13465916         1         0  \n",
       "13465917         1         0  \n",
       "13465918         1         0  \n",
       "13465919         1         0  \n",
       "\n",
       "[13465920 rows x 9 columns]"
      ]
     },
     "execution_count": 3,
     "metadata": {},
     "output_type": "execute_result"
    }
   ],
   "source": [
    "dict_encoding = { \"0:00\" : 1,\n",
    "                    \"0:30\" : 2,\n",
    "                    \"1:00\" : 3,\n",
    "                    \"1:30\" : 4,\n",
    "                    \"2:00\" : 5,\n",
    "                    \"2:30\" : 6,\n",
    "                    \"3:00\" : 7,\n",
    "                    \"3:30\" : 8,\n",
    "                    \"4:00\" : 9,\n",
    "                    \"4:30\" : 10,\n",
    "                    \"5:00\" : 11,\n",
    "                    \"5:30\" : 12,\n",
    "                    \"6:00\" : 13,\n",
    "                    \"6:30\" : 14,\n",
    "                    \"7:00\" : 15,\n",
    "                    \"7:30\" : 16,\n",
    "                    \"8:00\" : 17,\n",
    "                    \"8:30\" : 18,\n",
    "                    \"9:00\" : 19,\n",
    "                    \"9:30\" : 20,\n",
    "                    \"10:00\" : 21,\n",
    "                    \"10:30\" : 22,\n",
    "                    \"11:00\" : 23, \n",
    "                    \"11:30\" : 24,\n",
    "                    \"12:00\" : 25, \n",
    "                    \"12:30\" : 26, \n",
    "                    \"13:00\" : 27, \n",
    "                    \"13:30\" : 28, \n",
    "                    \"14:00\" : 29, \n",
    "                    \"14:30\" : 30, \n",
    "                    \"15:00\" : 31, \n",
    "                    \"15:30\" : 32, \n",
    "                    \"16:00\" : 33, \n",
    "                    \"16:30\" : 34, \n",
    "                    \"17:00\" : 35, \n",
    "                    \"17:30\" : 36, \n",
    "                    \"18:00\" : 37, \n",
    "                    \"18:30\" : 38, \n",
    "                    \"19:00\" : 39, \n",
    "                    \"19:30\" : 40, \n",
    "                    \"20:00\" : 41, \n",
    "                    \"20:30\" : 42, \n",
    "                    \"21:00\" : 43, \n",
    "                    \"21:30\" : 44, \n",
    "                    \"22:00\" : 45, \n",
    "                    \"22:30\" : 46, \n",
    "                    \"23:00\" : 47, \n",
    "                    \"23:30\" : 48\n",
    "}\n",
    "#replace the values of the column \"timestamp\" with the value of the dictionary\n",
    "df['timestamp'] = df['timestamp'].map(dict_encoding)\n",
    "\n",
    "#one hot encoding column h_type\n",
    "df = pd.get_dummies(df, columns=['h_type'])\n",
    "df"
   ]
  },
  {
   "cell_type": "code",
   "execution_count": 4,
   "metadata": {},
   "outputs": [],
   "source": [
    "X = df.drop(['consommation', 'h_ref'], axis=1)\n",
    "scaler = MinMaxScaler()\n",
    "X_norm = scaler.fit_transform(X)"
   ]
  },
  {
   "cell_type": "code",
   "execution_count": 57,
   "metadata": {},
   "outputs": [],
   "source": [
    "timestamp = df['timestamp'][:-48].values.tolist()"
   ]
  },
  {
   "cell_type": "code",
   "execution_count": 58,
   "metadata": {},
   "outputs": [],
   "source": [
    "conso_ref = df['consommation'][:-48].values.tolist()"
   ]
  },
  {
   "cell_type": "code",
   "execution_count": 59,
   "metadata": {},
   "outputs": [],
   "source": [
    "model1 = tf.keras.models.load_model('../../models/model1.h5')\n",
    "model2 = tf.keras.models.load_model('../../models/model2.h5')\n",
    "# model = joblib.load('../../models/MLPRegressor_a.joblib')"
   ]
  },
  {
   "cell_type": "code",
   "execution_count": null,
   "metadata": {},
   "outputs": [
    {
     "name": "stderr",
     "output_type": "stream",
     "text": [
      "/home/cytech/spie_project/spie-project/.SPIE/lib/python3.8/site-packages/sklearn/base.py:409: UserWarning: X does not have valid feature names, but MinMaxScaler was fitted with feature names\n",
      "  warnings.warn(\n"
     ]
    }
   ],
   "source": [
    "list_pred = []\n",
    "for i in range (1, 49):\n",
    "    list_pred.append([i, 1, 1, 50, 2, 1,0])\n",
    "\n",
    "list_pred_norm = scaler.transform(list_pred)\n"
   ]
  },
  {
   "cell_type": "code",
   "execution_count": 61,
   "metadata": {},
   "outputs": [
    {
     "name": "stdout",
     "output_type": "stream",
     "text": [
      "2/2 [==============================] - 0s 3ms/step\n"
     ]
    }
   ],
   "source": [
    "conso_pred = model.predict(list_pred_norm)"
   ]
  },
  {
   "cell_type": "code",
   "execution_count": 62,
   "metadata": {},
   "outputs": [],
   "source": [
    "encoding_ts = {1: \"0:00\", \n",
    "               2: \"0:30\", \n",
    "               3: \"1:00\", \n",
    "               4: \"1:30\", \n",
    "               5: \"2:00\", \n",
    "               6: \"2:30\", \n",
    "               7: \"3:00\", \n",
    "               8: \"3:30\", \n",
    "               9: \"4:00\", \n",
    "               10: \"4:30\", \n",
    "               11: \"5:00\", \n",
    "               12: \"5:30\", \n",
    "               13: \"6:00\", \n",
    "               14: \"6:30\", \n",
    "               15: \"7:00\", \n",
    "               16: \"7:30\", \n",
    "               17: \"8:00\", \n",
    "               18: \"8:30\", \n",
    "               19: \"9:00\", \n",
    "               20: \"9:30\", \n",
    "               21: \"10:00\", \n",
    "               22: \"10:30\", \n",
    "               23: \"11:00\", \n",
    "               24: \"11:30\", \n",
    "               25: \"12:00\", \n",
    "               26: \"12:30\", \n",
    "               27: \"13:00\", \n",
    "               28: \"13:30\", \n",
    "               29: \"14:00\", \n",
    "               30: \"14:30\", \n",
    "               31: \"15:00\", \n",
    "               32: \"15:30\", \n",
    "               33: \"16:00\", \n",
    "               34: \"16:30\", \n",
    "               35: \"17:00\", \n",
    "               36: \"17:30\", \n",
    "               37: \"18:00\", \n",
    "               38: \"18:30\", \n",
    "               39: \"19:00\", \n",
    "               40: \"19:30\", \n",
    "               41: \"20:00\", \n",
    "               42: \"20:30\", \n",
    "               43: \"21:00\", \n",
    "               44: \"21:30\", \n",
    "               45: \"22:00\", \n",
    "               46: \"22:30\", \n",
    "               47: \"23:00\", \n",
    "               48: \"23:30\"}"
   ]
  },
  {
   "cell_type": "code",
   "execution_count": 63,
   "metadata": {},
   "outputs": [],
   "source": [
    "# timestamp = [encoding_ts[i] for i in timestamp]"
   ]
  },
  {
   "cell_type": "code",
   "execution_count": 64,
   "metadata": {},
   "outputs": [
    {
     "name": "stdout",
     "output_type": "stream",
     "text": [
      "2/2 [==============================] - 0s 3ms/step\n"
     ]
    },
    {
     "ename": "ValueError",
     "evalue": "x and y must have same first dimension, but have shapes (13465872,) and (48, 1)",
     "output_type": "error",
     "traceback": [
      "\u001b[0;31m---------------------------------------------------------------------------\u001b[0m",
      "\u001b[0;31mValueError\u001b[0m                                Traceback (most recent call last)",
      "Cell \u001b[0;32mIn[64], line 3\u001b[0m\n\u001b[1;32m      1\u001b[0m fig, ax \u001b[39m=\u001b[39m plt\u001b[39m.\u001b[39msubplots(\u001b[39m2\u001b[39m)\n\u001b[1;32m      2\u001b[0m ax[\u001b[39m0\u001b[39m]\u001b[39m.\u001b[39mplot(timestamp, conso_ref, label\u001b[39m=\u001b[39m\u001b[39m'\u001b[39m\u001b[39mConsommation réelle par TOP30 (kWh)\u001b[39m\u001b[39m'\u001b[39m, color\u001b[39m=\u001b[39m\u001b[39m'\u001b[39m\u001b[39mblue\u001b[39m\u001b[39m'\u001b[39m, linewidth\u001b[39m=\u001b[39m\u001b[39m0.5\u001b[39m)\n\u001b[0;32m----> 3\u001b[0m ax[\u001b[39m0\u001b[39;49m]\u001b[39m.\u001b[39;49mplot(timestamp, model1\u001b[39m.\u001b[39;49mpredict(list_pred_norm), label\u001b[39m=\u001b[39;49m\u001b[39m'\u001b[39;49m\u001b[39mConsommation prédite par TOP30 (kWh)\u001b[39;49m\u001b[39m'\u001b[39;49m, color\u001b[39m=\u001b[39;49m\u001b[39m'\u001b[39;49m\u001b[39mred\u001b[39;49m\u001b[39m'\u001b[39;49m, linewidth\u001b[39m=\u001b[39;49m\u001b[39m0.5\u001b[39;49m)\n\u001b[1;32m      4\u001b[0m ax[\u001b[39m0\u001b[39m]\u001b[39m.\u001b[39mset_xlabel(\u001b[39m'\u001b[39m\u001b[39mtimestamp\u001b[39m\u001b[39m'\u001b[39m)\n\u001b[1;32m      5\u001b[0m ax[\u001b[39m0\u001b[39m]\u001b[39m.\u001b[39mset_ylabel(\u001b[39m'\u001b[39m\u001b[39mconsommation\u001b[39m\u001b[39m'\u001b[39m)\n",
      "File \u001b[0;32m~/spie_project/spie-project/.SPIE/lib/python3.8/site-packages/matplotlib/axes/_axes.py:1668\u001b[0m, in \u001b[0;36mAxes.plot\u001b[0;34m(self, scalex, scaley, data, *args, **kwargs)\u001b[0m\n\u001b[1;32m   1425\u001b[0m \u001b[39m\u001b[39m\u001b[39m\"\"\"\u001b[39;00m\n\u001b[1;32m   1426\u001b[0m \u001b[39mPlot y versus x as lines and/or markers.\u001b[39;00m\n\u001b[1;32m   1427\u001b[0m \n\u001b[0;32m   (...)\u001b[0m\n\u001b[1;32m   1665\u001b[0m \u001b[39m(``'green'``) or hex strings (``'#008000'``).\u001b[39;00m\n\u001b[1;32m   1666\u001b[0m \u001b[39m\"\"\"\u001b[39;00m\n\u001b[1;32m   1667\u001b[0m kwargs \u001b[39m=\u001b[39m cbook\u001b[39m.\u001b[39mnormalize_kwargs(kwargs, mlines\u001b[39m.\u001b[39mLine2D)\n\u001b[0;32m-> 1668\u001b[0m lines \u001b[39m=\u001b[39m [\u001b[39m*\u001b[39m\u001b[39mself\u001b[39m\u001b[39m.\u001b[39m_get_lines(\u001b[39m*\u001b[39margs, data\u001b[39m=\u001b[39mdata, \u001b[39m*\u001b[39m\u001b[39m*\u001b[39mkwargs)]\n\u001b[1;32m   1669\u001b[0m \u001b[39mfor\u001b[39;00m line \u001b[39min\u001b[39;00m lines:\n\u001b[1;32m   1670\u001b[0m     \u001b[39mself\u001b[39m\u001b[39m.\u001b[39madd_line(line)\n",
      "File \u001b[0;32m~/spie_project/spie-project/.SPIE/lib/python3.8/site-packages/matplotlib/axes/_base.py:311\u001b[0m, in \u001b[0;36m_process_plot_var_args.__call__\u001b[0;34m(self, data, *args, **kwargs)\u001b[0m\n\u001b[1;32m    309\u001b[0m     this \u001b[39m+\u001b[39m\u001b[39m=\u001b[39m args[\u001b[39m0\u001b[39m],\n\u001b[1;32m    310\u001b[0m     args \u001b[39m=\u001b[39m args[\u001b[39m1\u001b[39m:]\n\u001b[0;32m--> 311\u001b[0m \u001b[39myield from\u001b[39;00m \u001b[39mself\u001b[39;49m\u001b[39m.\u001b[39;49m_plot_args(\n\u001b[1;32m    312\u001b[0m     this, kwargs, ambiguous_fmt_datakey\u001b[39m=\u001b[39;49mambiguous_fmt_datakey)\n",
      "File \u001b[0;32m~/spie_project/spie-project/.SPIE/lib/python3.8/site-packages/matplotlib/axes/_base.py:504\u001b[0m, in \u001b[0;36m_process_plot_var_args._plot_args\u001b[0;34m(self, tup, kwargs, return_kwargs, ambiguous_fmt_datakey)\u001b[0m\n\u001b[1;32m    501\u001b[0m     \u001b[39mself\u001b[39m\u001b[39m.\u001b[39maxes\u001b[39m.\u001b[39myaxis\u001b[39m.\u001b[39mupdate_units(y)\n\u001b[1;32m    503\u001b[0m \u001b[39mif\u001b[39;00m x\u001b[39m.\u001b[39mshape[\u001b[39m0\u001b[39m] \u001b[39m!=\u001b[39m y\u001b[39m.\u001b[39mshape[\u001b[39m0\u001b[39m]:\n\u001b[0;32m--> 504\u001b[0m     \u001b[39mraise\u001b[39;00m \u001b[39mValueError\u001b[39;00m(\u001b[39mf\u001b[39m\u001b[39m\"\u001b[39m\u001b[39mx and y must have same first dimension, but \u001b[39m\u001b[39m\"\u001b[39m\n\u001b[1;32m    505\u001b[0m                      \u001b[39mf\u001b[39m\u001b[39m\"\u001b[39m\u001b[39mhave shapes \u001b[39m\u001b[39m{\u001b[39;00mx\u001b[39m.\u001b[39mshape\u001b[39m}\u001b[39;00m\u001b[39m and \u001b[39m\u001b[39m{\u001b[39;00my\u001b[39m.\u001b[39mshape\u001b[39m}\u001b[39;00m\u001b[39m\"\u001b[39m)\n\u001b[1;32m    506\u001b[0m \u001b[39mif\u001b[39;00m x\u001b[39m.\u001b[39mndim \u001b[39m>\u001b[39m \u001b[39m2\u001b[39m \u001b[39mor\u001b[39;00m y\u001b[39m.\u001b[39mndim \u001b[39m>\u001b[39m \u001b[39m2\u001b[39m:\n\u001b[1;32m    507\u001b[0m     \u001b[39mraise\u001b[39;00m \u001b[39mValueError\u001b[39;00m(\u001b[39mf\u001b[39m\u001b[39m\"\u001b[39m\u001b[39mx and y can be no greater than 2D, but have \u001b[39m\u001b[39m\"\u001b[39m\n\u001b[1;32m    508\u001b[0m                      \u001b[39mf\u001b[39m\u001b[39m\"\u001b[39m\u001b[39mshapes \u001b[39m\u001b[39m{\u001b[39;00mx\u001b[39m.\u001b[39mshape\u001b[39m}\u001b[39;00m\u001b[39m and \u001b[39m\u001b[39m{\u001b[39;00my\u001b[39m.\u001b[39mshape\u001b[39m}\u001b[39;00m\u001b[39m\"\u001b[39m)\n",
      "\u001b[0;31mValueError\u001b[0m: x and y must have same first dimension, but have shapes (13465872,) and (48, 1)"
     ]
    },
    {
     "ename": "",
     "evalue": "",
     "output_type": "error",
     "traceback": [
      "\u001b[1;31mCanceled future for execute_request message before replies were done"
     ]
    },
    {
     "ename": "",
     "evalue": "",
     "output_type": "error",
     "traceback": [
      "\u001b[1;31mThe Kernel crashed while executing code in the the current cell or a previous cell. Please review the code in the cell(s) to identify a possible cause of the failure. Click <a href='https://aka.ms/vscodeJupyterKernelCrash'>here</a> for more info. View Jupyter <a href='command:jupyter.viewOutput'>log</a> for further details."
     ]
    }
   ],
   "source": [
    "fig, ax = plt.subplots(2)\n",
    "ax[0].plot(timestamp, conso_ref, label='Consommation réelle par TOP30 (kWh)', color='blue', linewidth=0.5)\n",
    "ax[0].plot(timestamp, model1.predict(list_pred_norm), label='Consommation prédite par TOP30 (kWh)', color='red', linewidth=0.5)\n",
    "ax[0].set_xlabel('timestamp')\n",
    "ax[0].set_ylabel('consommation')\n",
    "plt.setp(ax[0].get_xticklabels(), rotation=90, horizontalalignment='right')\n",
    "\n",
    "ax[1].plot(timestamp, conso_ref, label='Consommation réelle par TOP30 (kWh)', color='blue', linewidth=0.5)\n",
    "ax[1].plot(timestamp, model.predict(list_pred_norm), label='Consommation prédite par TOP30 (kWh)', color='red', linewidth=0.5)\n",
    "ax[1].set_xlabel('timestamp')\n",
    "ax[1].set_ylabel('consommation')\n",
    "plt.setp(ax[1].get_xticklabels(), rotation=90, horizontalalignment='right')\n",
    "\n",
    "fig.set_size_inches(12, 5)\n",
    "fig.suptitle('Consommation réelle et prédite par TOP30')\n",
    "fig.tight_layout()\n",
    "fig.show()"
   ]
  },
  {
   "cell_type": "code",
   "execution_count": null,
   "metadata": {},
   "outputs": [],
   "source": []
  }
 ],
 "metadata": {
  "kernelspec": {
   "display_name": ".SPIE",
   "language": "python",
   "name": "python3"
  },
  "language_info": {
   "codemirror_mode": {
    "name": "ipython",
    "version": 3
   },
   "file_extension": ".py",
   "mimetype": "text/x-python",
   "name": "python",
   "nbconvert_exporter": "python",
   "pygments_lexer": "ipython3",
   "version": "3.8.10"
  },
  "orig_nbformat": 4,
  "vscode": {
   "interpreter": {
    "hash": "67b9a42b22aa8589a9e6a3567f068f4b44f2f3f7a908f45812cd5383a688e544"
   }
  }
 },
 "nbformat": 4,
 "nbformat_minor": 2
}
