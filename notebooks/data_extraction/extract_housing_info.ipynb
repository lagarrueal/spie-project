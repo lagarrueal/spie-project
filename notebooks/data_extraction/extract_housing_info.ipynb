{
 "cells": [
  {
   "cell_type": "code",
   "execution_count": 1,
   "metadata": {},
   "outputs": [],
   "source": [
    "import pandas as pd\n",
    "import random\n",
    "import os"
   ]
  },
  {
   "cell_type": "code",
   "execution_count": 2,
   "metadata": {},
   "outputs": [],
   "source": [
    "# Directory containing subdirectories for each housing\n",
    "# Each subdirectory contains a csv file \n",
    "data_path = \"../../data/housing_data/\"\n"
   ]
  },
  {
   "cell_type": "code",
   "execution_count": 3,
   "metadata": {},
   "outputs": [],
   "source": [
    "def extract_housing_info_from_name(housing):\n",
    "    \"\"\"\n",
    "    Extracts the housing information from the csv file\n",
    "    The info is as follows:\n",
    "        - The first upper case letter is the type of housing (A : appartement, M : maison)\n",
    "        - The numbers after the letter represent the surface of the housing\n",
    "        - The number after the dash represents the number of people living in the housing\n",
    "    \"\"\"\n",
    "    try:\n",
    "        info = housing.split(\".\")[0].split(\"_\")[2]\n",
    "        # print(f\"Housing {info}\")\n",
    "        h_type = info[0]\n",
    "        # print(f\"Housing type: {h_type}\")\n",
    "        if h_type == \"1\":\n",
    "            h_type = \"M\"\n",
    "        elif h_type == \"8\":\n",
    "            h_type = \"A\"\n",
    "        # print(f\"Housing type: {h_type}\")\n",
    "        info = info.replace(h_type, \"\")\n",
    "        surface, nb_people, h_ref = info.split(\"-\")\n",
    "    except:\n",
    "        h_ref = housing.split(\" \")[1].replace(\".csv\", \"\").strip(\"()\")\n",
    "        info = housing.split(\" \")[0].split(\"_\")[2]\n",
    "        h_type = info[0]\n",
    "        # print(f\"Ref: {h_ref}\")\n",
    "        # print(f\"Type: {h_type}\")\n",
    "        info = info.replace(h_type, \"\")\n",
    "        # print(f\"Info: {info}\")\n",
    "        surface, nb_people = info.split(\"-\")\n",
    "        # print(f\"Surface: {surface}\")\n",
    "        # print(f\"Nb people: {nb_people}\")\n",
    "\n",
    "    return h_type, surface, nb_people, h_ref"
   ]
  },
  {
   "cell_type": "code",
   "execution_count": 4,
   "metadata": {},
   "outputs": [
    {
     "data": {
      "text/plain": [
       "('M', '110', '2', '4')"
      ]
     },
     "execution_count": 4,
     "metadata": {},
     "output_type": "execute_result"
    }
   ],
   "source": [
    "extract_housing_info_from_name(\"data_maison_M110-2-4.csv\")"
   ]
  },
  {
   "cell_type": "code",
   "execution_count": 5,
   "metadata": {},
   "outputs": [
    {
     "data": {
      "text/plain": [
       "26"
      ]
     },
     "execution_count": 5,
     "metadata": {},
     "output_type": "execute_result"
    }
   ],
   "source": [
    "list_housings = os.listdir(data_path) # list of all the housings\n",
    "len(list_housings)"
   ]
  },
  {
   "cell_type": "code",
   "execution_count": 6,
   "metadata": {},
   "outputs": [
    {
     "name": "stdout",
     "output_type": "stream",
     "text": [
      "['data A110-5', 'data M170-6', 'data M120-5', 'data A150-6', 'data M135-3', 'data M150-4', 'data M100-3', 'data A130-4', 'data M140-5', 'data M250-5', 'data M80-2', 'data A50-3', 'data M90-4', 'data M65-3', 'data A100-3', 'data A120-4', 'data A30-2', 'data M200-6', 'data M85-3', 'data M160-5', 'data M50-2', 'data A25-1', 'data M110-4', 'data M180-5', 'data A15-1', 'data A50-2']\n"
     ]
    }
   ],
   "source": [
    "print(list_housings)"
   ]
  },
  {
   "cell_type": "code",
   "execution_count": 7,
   "metadata": {},
   "outputs": [
    {
     "name": "stdout",
     "output_type": "stream",
     "text": [
      "../../data/housing_data/data A110-5/data_maison_A110-5-362.csv :   A 110 5 362\n",
      "../../data/housing_data/data A110-5/data_maison_A110-5-411.csv :   A 110 5 411\n",
      "../../data/housing_data/data A110-5/data_maison_A110-5-234.csv :   A 110 5 234\n",
      "../../data/housing_data/data A110-5/data_maison_A110-5-297.csv :   A 110 5 297\n",
      "../../data/housing_data/data A110-5/data_maison_A110-5-220.csv :   A 110 5 220\n",
      "../../data/housing_data/data A110-5/data_maison_A110-5-427.csv :   A 110 5 427\n",
      "../../data/housing_data/data A110-5/data_maison_A110-5-405.csv :   A 110 5 405\n",
      "../../data/housing_data/data A110-5/data_maison_A110-5-118.csv :   A 110 5 118\n",
      "../../data/housing_data/data A110-5/data_maison_A110-5-118.csv :   A 110 5 118\n",
      "../../data/housing_data/data A110-5/data_maison_A110-5-361.csv :   A 110 5 361\n",
      "../../data/housing_data/data M170-6/data_maison_M170-6-111.csv :   M 170 6 111\n",
      "../../data/housing_data/data M170-6/data_maison_M170-6-222.csv :   M 170 6 222\n",
      "../../data/housing_data/data M170-6/data_maison_M170-6-184.csv :   M 170 6 184\n",
      "../../data/housing_data/data M170-6/data_maison_M170-6-151.csv :   M 170 6 151\n",
      "../../data/housing_data/data M170-6/data_maison_M170-6-139.csv :   M 170 6 139\n",
      "../../data/housing_data/data M170-6/data_maison_M170-6-246.csv :   M 170 6 246\n",
      "../../data/housing_data/data M170-6/data_maison_M170-6-143.csv :   M 170 6 143\n",
      "../../data/housing_data/data M170-6/data_maison_M170-6-217.csv :   M 170 6 217\n",
      "../../data/housing_data/data M170-6/data_maison_M170-6-132.csv :   M 170 6 132\n",
      "../../data/housing_data/data M170-6/data_maison_M170-6-136.csv :   M 170 6 136\n",
      "../../data/housing_data/data M120-5/data_maison_M120-5-1063.csv :   M 120 5 1063\n",
      "../../data/housing_data/data M120-5/data_maison_M120-5-955.csv :   M 120 5 955\n",
      "../../data/housing_data/data M120-5/data_maison_M120-5-789.csv :   M 120 5 789\n",
      "../../data/housing_data/data M120-5/data_maison_M120-5-1081.csv :   M 120 5 1081\n",
      "../../data/housing_data/data M120-5/data_maison_M120-5-315.csv :   M 120 5 315\n",
      "../../data/housing_data/data M120-5/data_maison_M120-5-568.csv :   M 120 5 568\n",
      "../../data/housing_data/data M120-5/data_maison_M120-5-964.csv :   M 120 5 964\n",
      "../../data/housing_data/data M120-5/data_maison_M120-5-371.csv :   M 120 5 371\n",
      "../../data/housing_data/data M120-5/data_maison_M120-5-159.csv :   M 120 5 159\n",
      "../../data/housing_data/data M120-5/data_maison_M120-5-404.csv :   M 120 5 404\n",
      "../../data/housing_data/data A150-6/data_maison_A150-6-63.csv :   A 150 6 63\n",
      "../../data/housing_data/data A150-6/data_maison_A150-6-61.csv :   A 150 6 61\n",
      "../../data/housing_data/data A150-6/data_maison_A150-6-22.csv :   A 150 6 22\n",
      "../../data/housing_data/data A150-6/data_maison_A150-6-17.csv :   A 150 6 17\n",
      "../../data/housing_data/data A150-6/data_maison_A150-6-72.csv :   A 150 6 72\n",
      "../../data/housing_data/data A150-6/data_maison_A150-6-66.csv :   A 150 6 66\n",
      "../../data/housing_data/data A150-6/data_maison_A150-6-100.csv :   A 150 6 100\n",
      "../../data/housing_data/data A150-6/data_maison_A150-6-58.csv :   A 150 6 58\n",
      "../../data/housing_data/data A150-6/data_maison_A150-6-27.csv :   A 150 6 27\n",
      "../../data/housing_data/data A150-6/data_maison_A150-6-50.csv :   A 150 6 50\n",
      "../../data/housing_data/data M135-3/data_maison_M135-3-235.csv :   M 135 3 235\n",
      "../../data/housing_data/data M135-3/data_maison_M135-3-221.csv :   M 135 3 221\n",
      "../../data/housing_data/data M135-3/data_maison_M135-3-533.csv :   M 135 3 533\n",
      "../../data/housing_data/data M135-3/data_maison_M135-3-427.csv :   M 135 3 427\n",
      "../../data/housing_data/data M135-3/data_maison_M135-3-139.csv :   M 135 3 139\n",
      "../../data/housing_data/data M135-3/data_maison_M135-3-448.csv :   M 135 3 448\n",
      "../../data/housing_data/data M135-3/data_maison_M135-3-461.csv :   M 135 3 461\n",
      "../../data/housing_data/data M135-3/data_maison_M135-3-526.csv :   M 135 3 526\n",
      "../../data/housing_data/data M135-3/data_maison_M135-3-399.csv :   M 135 3 399\n",
      "../../data/housing_data/data M135-3/data_maison_M135-3-615.csv :   M 135 3 615\n",
      "../../data/housing_data/data M150-4/data_maison_150-4-158.csv :   M 150 4 158\n",
      "../../data/housing_data/data M150-4/data_maison_150-4-740.csv :   M 150 4 740\n",
      "../../data/housing_data/data M150-4/data_maison_150-4-51.csv :   M 150 4 51\n",
      "../../data/housing_data/data M150-4/data_maison_150-4-358.csv :   M 150 4 358\n",
      "../../data/housing_data/data M150-4/data_maison_150-4-468.csv :   M 150 4 468\n",
      "../../data/housing_data/data M150-4/data_maison_150-4-415.csv :   M 150 4 415\n",
      "../../data/housing_data/data M150-4/data_maison_150-4-643.csv :   M 150 4 643\n",
      "../../data/housing_data/data M150-4/data_maison_150-4-636.csv :   M 150 4 636\n",
      "../../data/housing_data/data M150-4/data_maison_150-4-809.csv :   M 150 4 809\n",
      "../../data/housing_data/data M150-4/data_maison_150-4-549.csv :   M 150 4 549\n",
      "../../data/housing_data/data M100-3/data_maison_M100-3-869.csv :   M 100 3 869\n",
      "../../data/housing_data/data M100-3/data_maison_M100-3-243.csv :   M 100 3 243\n",
      "../../data/housing_data/data M100-3/data_maison_M100-3-93.csv :   M 100 3 93\n",
      "../../data/housing_data/data M100-3/data_maison_M100-3-845.csv :   M 100 3 845\n",
      "../../data/housing_data/data M100-3/data_maison_M100-3-520.csv :   M 100 3 520\n",
      "../../data/housing_data/data M100-3/data_maison_M100-3-894.csv :   M 100 3 894\n",
      "../../data/housing_data/data M100-3/data_maison_M100-3-274.csv :   M 100 3 274\n",
      "../../data/housing_data/data M100-3/data_maison_M100-3-51.csv :   M 100 3 51\n",
      "../../data/housing_data/data M100-3/data_maison_M100-3-42.csv :   M 100 3 42\n",
      "../../data/housing_data/data M100-3/data_maison_M100-3-646.csv :   M 100 3 646\n",
      "../../data/housing_data/data A130-4/data_maison_A130-4-631.csv :   A 130 4 631\n",
      "../../data/housing_data/data A130-4/data_maison_A130-4-104.csv :   A 130 4 104\n",
      "../../data/housing_data/data A130-4/data_maison_A130-4-8.csv :   A 130 4 8\n",
      "../../data/housing_data/data A130-4/data_maison_A130-4-471.csv :   A 130 4 471\n",
      "../../data/housing_data/data A130-4/data_maison_A130-4-366.csv :   A 130 4 366\n",
      "../../data/housing_data/data A130-4/data_maison_A130-4-30.csv :   A 130 4 30\n",
      "../../data/housing_data/data A130-4/data_maison_A130-4-671.csv :   A 130 4 671\n",
      "../../data/housing_data/data A130-4/data_maison_A130-4-762.csv :   A 130 4 762\n",
      "../../data/housing_data/data A130-4/data_maison_A130-4-282.csv :   A 130 4 282\n",
      "../../data/housing_data/data A130-4/data_maison_A130-4-690.csv :   A 130 4 690\n",
      "../../data/housing_data/data M140-5/data_maison_140-5-1064.csv :   M 140 5 1064\n",
      "../../data/housing_data/data M140-5/data_maison_140-5-1004.csv :   M 140 5 1004\n",
      "../../data/housing_data/data M140-5/data_maison_140-5-297.csv :   M 140 5 297\n",
      "../../data/housing_data/data M140-5/data_maison_140-5-216.csv :   M 140 5 216\n",
      "../../data/housing_data/data M140-5/data_maison_140-5-190.csv :   M 140 5 190\n",
      "../../data/housing_data/data M140-5/data_maison_140-5-1121.csv :   M 140 5 1121\n",
      "../../data/housing_data/data M140-5/data_maison_140-5-1075.csv :   M 140 5 1075\n",
      "../../data/housing_data/data M140-5/data_maison_140-5-186.csv :   M 140 5 186\n",
      "../../data/housing_data/data M140-5/data_maison_140-5-440.csv :   M 140 5 440\n",
      "../../data/housing_data/data M140-5/data_maison_140-5-1027.csv :   M 140 5 1027\n",
      "../../data/housing_data/data M250-5/data_maison_M250-5-41.csv :   M 250 5 41\n",
      "../../data/housing_data/data M250-5/data_maison_M250-5-74.csv :   M 250 5 74\n",
      "../../data/housing_data/data M250-5/data_maison_M250-5-35.csv :   M 250 5 35\n",
      "../../data/housing_data/data M250-5/data_maison_M250-5-220.csv :   M 250 5 220\n",
      "../../data/housing_data/data M250-5/data_maison_M250-5-185.csv :   M 250 5 185\n",
      "../../data/housing_data/data M250-5/data_maison_M250-5-111.csv :   M 250 5 111\n",
      "../../data/housing_data/data M250-5/data_maison_M250-5-72.csv :   M 250 5 72\n",
      "../../data/housing_data/data M250-5/data_maison_M250-5-19.csv :   M 250 5 19\n",
      "../../data/housing_data/data M250-5/data_maison_M250-5-2.csv :   M 250 5 2\n",
      "../../data/housing_data/data M250-5/data_maison_M250-5-14.csv :   M 250 5 14\n",
      "../../data/housing_data/data M80-2/data_maison_M80-2-14.csv :   M 80 2 14\n",
      "../../data/housing_data/data M80-2/data_maison_M80-2-39.csv :   M 80 2 39\n",
      "../../data/housing_data/data M80-2/data_maison_M80-2-558.csv :   M 80 2 558\n",
      "../../data/housing_data/data M80-2/data_maison_M80-2-523.csv :   M 80 2 523\n",
      "../../data/housing_data/data M80-2/data_maison_M80-2-100.csv :   M 80 2 100\n",
      "../../data/housing_data/data M80-2/data_maison_M80-2-850.csv :   M 80 2 850\n",
      "../../data/housing_data/data M80-2/data_maison_M80-2-640.csv :   M 80 2 640\n",
      "../../data/housing_data/data M80-2/data_maison_M80-2-380.csv :   M 80 2 380\n",
      "../../data/housing_data/data M80-2/data_maison_M80-2-348.csv :   M 80 2 348\n",
      "../../data/housing_data/data M80-2/data_maison_M80-2-375.csv :   M 80 2 375\n",
      "../../data/housing_data/data A50-3/data_maison_A50-3-309.csv :   A 50 3 309\n",
      "../../data/housing_data/data A50-3/data_maison_A50-3-682.csv :   A 50 3 682\n",
      "../../data/housing_data/data A50-3/data_maison_A50-3-568.csv :   A 50 3 568\n",
      "../../data/housing_data/data A50-3/data_maison_A50-3-36.csv :   A 50 3 36\n",
      "../../data/housing_data/data A50-3/data_maison_A50-3-702.csv :   A 50 3 702\n",
      "../../data/housing_data/data A50-3/data_maison_A50-3-618.csv :   A 50 3 618\n",
      "../../data/housing_data/data A50-3/data_maison_A50-3-716.csv :   A 50 3 716\n",
      "../../data/housing_data/data A50-3/data_maison_A50-3-631.csv :   A 50 3 631\n",
      "../../data/housing_data/data A50-3/data_maison_A50-3-234.csv :   A 50 3 234\n",
      "../../data/housing_data/data A50-3/data_maison_A50-3-500.csv :   A 50 3 500\n",
      "../../data/housing_data/data M90-4/data_maison_M90-4-709.csv :   M 90 4 709\n",
      "../../data/housing_data/data M90-4/data_maison_M90-4-195.csv :   M 90 4 195\n",
      "../../data/housing_data/data M90-4/data_maison_M90-4-790.csv :   M 90 4 790\n",
      "../../data/housing_data/data M90-4/data_maison_M90-4-366.csv :   M 90 4 366\n",
      "../../data/housing_data/data M90-4/data_maison_M90-4-584.csv :   M 90 4 584\n",
      "../../data/housing_data/data M90-4/data_maison_M90-4-330.csv :   M 90 4 330\n",
      "../../data/housing_data/data M90-4/data_maison_M90-4-708.csv :   M 90 4 708\n",
      "../../data/housing_data/data M90-4/data_maison_M90-4-587.csv :   M 90 4 587\n",
      "../../data/housing_data/data M90-4/data_maison_M90-4-699.csv :   M 90 4 699\n",
      "../../data/housing_data/data M90-4/data_maison_M90-4-472.csv :   M 90 4 472\n",
      "../../data/housing_data/data M65-3/data_maison_M65-3-160.csv :   M 65 3 160\n",
      "../../data/housing_data/data M65-3/data_maison_M65-3-61.csv :   M 65 3 61\n",
      "../../data/housing_data/data M65-3/data_maison_M65-3-244.csv :   M 65 3 244\n",
      "../../data/housing_data/data M65-3/data_maison_M65-3-637.csv :   M 65 3 637\n",
      "../../data/housing_data/data M65-3/data_maison_M65-3-29.csv :   M 65 3 29\n",
      "../../data/housing_data/data M65-3/data_maison_M65-3-734.csv :   M 65 3 734\n",
      "../../data/housing_data/data M65-3/data_maison_M65-3-844.csv :   M 65 3 844\n",
      "../../data/housing_data/data M65-3/data_maison_M65-3-719.csv :   M 65 3 719\n",
      "../../data/housing_data/data M65-3/data_maison_M65-3-798.csv :   M 65 3 798\n",
      "../../data/housing_data/data M65-3/data_maison_M65-3-54.csv :   M 65 3 54\n",
      "../../data/housing_data/data A100-3/data_maison_A100-3-741.csv :   A 100 3 741\n",
      "../../data/housing_data/data A100-3/data_maison_A100-3-504.csv :   A 100 3 504\n",
      "../../data/housing_data/data A100-3/data_maison_A100-3-201.csv :   A 100 3 201\n",
      "../../data/housing_data/data A100-3/data_maison_A100-3-705.csv :   A 100 3 705\n",
      "../../data/housing_data/data A100-3/data_maison_A100-3-740.csv :   A 100 3 740\n",
      "../../data/housing_data/data A100-3/data_maison_A100-3-87.csv :   A 100 3 87\n",
      "../../data/housing_data/data A100-3/data_maison_A100-3-531.csv :   A 100 3 531\n",
      "../../data/housing_data/data A100-3/data_maison_A100-3-180.csv :   A 100 3 180\n",
      "../../data/housing_data/data A100-3/data_maison_A100-3-300.csv :   A 100 3 300\n",
      "../../data/housing_data/data A100-3/data_maison_A100-3-694.csv :   A 100 3 694\n",
      "../../data/housing_data/data A120-4/data_maison_A120-4 (422).csv :   A 120 4 422\n",
      "../../data/housing_data/data A120-4/data_maison_A120-4 (541).csv :   A 120 4 541\n",
      "../../data/housing_data/data A120-4/data_maison_A120-4 (782).csv :   A 120 4 782\n",
      "../../data/housing_data/data A120-4/data_maison_A120-4 (369).csv :   A 120 4 369\n",
      "../../data/housing_data/data A120-4/data_maison_A120-4 (255).csv :   A 120 4 255\n",
      "../../data/housing_data/data A120-4/data_maison_A120-4 (671).csv :   A 120 4 671\n",
      "../../data/housing_data/data A120-4/data_maison_A120-4 (787).csv :   A 120 4 787\n",
      "../../data/housing_data/data A120-4/data_maison_A120-4 (183).csv :   A 120 4 183\n",
      "../../data/housing_data/data A120-4/data_maison_A120-4 (333).csv :   A 120 4 333\n",
      "../../data/housing_data/data A120-4/data_maison_A120-4 (693).csv :   A 120 4 693\n",
      "../../data/housing_data/data A30-2/data_maison_A30-2-346.csv :   A 30 2 346\n",
      "../../data/housing_data/data A30-2/data_maison_A30-2-101.csv :   A 30 2 101\n",
      "../../data/housing_data/data A30-2/data_maison_A30-2-115.csv :   A 30 2 115\n",
      "../../data/housing_data/data A30-2/data_maison_A30-2-190.csv :   A 30 2 190\n",
      "../../data/housing_data/data A30-2/data_maison_A30-2-115.csv :   A 30 2 115\n",
      "../../data/housing_data/data A30-2/data_maison_A30-2-228.csv :   A 30 2 228\n",
      "../../data/housing_data/data A30-2/data_maison_A30-2-144.csv :   A 30 2 144\n",
      "../../data/housing_data/data A30-2/data_maison_A30-2-209.csv :   A 30 2 209\n",
      "../../data/housing_data/data A30-2/data_maison_A30-2-584.csv :   A 30 2 584\n",
      "../../data/housing_data/data A30-2/data_maison_A30-2-655.csv :   A 30 2 655\n",
      "../../data/housing_data/data M200-6/data_maison_M200-6-174.csv :   M 200 6 174\n",
      "../../data/housing_data/data M200-6/data_maison_M200-6-137.csv :   M 200 6 137\n",
      "../../data/housing_data/data M200-6/data_maison_M200-6-256.csv :   M 200 6 256\n",
      "../../data/housing_data/data M200-6/data_maison_M200-6-189.csv :   M 200 6 189\n",
      "../../data/housing_data/data M200-6/data_maison_M200-6-219.csv :   M 200 6 219\n",
      "../../data/housing_data/data M200-6/data_maison_M200-6-267.csv :   M 200 6 267\n",
      "../../data/housing_data/data M200-6/data_maison_M200-6-317.csv :   M 200 6 317\n",
      "../../data/housing_data/data M200-6/data_maison_M200-6-275.csv :   M 200 6 275\n",
      "../../data/housing_data/data M200-6/data_maison_M200-6-320.csv :   M 200 6 320\n",
      "../../data/housing_data/data M200-6/data_maison_M200-6-117.csv :   M 200 6 117\n",
      "../../data/housing_data/data M85-3/data_maison_85-3-948.csv :   A 85 3 948\n",
      "../../data/housing_data/data M85-3/data_maison_85-3-633.csv :   A 85 3 633\n",
      "../../data/housing_data/data M85-3/data_maison_85-3-48.csv :   A 85 3 48\n",
      "../../data/housing_data/data M85-3/data_maison_85-3-153.csv :   A 85 3 153\n",
      "../../data/housing_data/data M85-3/data_maison_85-3-447.csv :   A 85 3 447\n",
      "../../data/housing_data/data M85-3/data_maison_85-3-39.csv :   A 85 3 39\n",
      "../../data/housing_data/data M85-3/data_maison_85-3-168.csv :   A 85 3 168\n",
      "../../data/housing_data/data M85-3/data_maison_85-3-570.csv :   A 85 3 570\n",
      "../../data/housing_data/data M85-3/data_maison_85-3-117.csv :   A 85 3 117\n",
      "../../data/housing_data/data M85-3/data_maison_85-3-943.csv :   A 85 3 943\n",
      "../../data/housing_data/data M160-5/data_maison_M160-5-662.csv :   M 160 5 662\n"
     ]
    }
   ],
   "source": [
    "df = pd.DataFrame()\n",
    "\n",
    "for housing in list_housings:\n",
    "    houses = os.listdir(data_path + housing)\n",
    "    random_indexes = [random.randint(0, len(houses)) for i in range(10)]\n",
    "    # print(random_indexes)\n",
    "    random_houses = []\n",
    "    for i in random_indexes:\n",
    "        random_houses.append(houses[i])\n",
    "    # print(random_houses)\n",
    "    for house in random_houses:\n",
    "        \n",
    "        h_type, h_surface, nb_people, h_ref = extract_housing_info_from_name(house)\n",
    "        print(data_path + housing + \"/\" + house + \" :   \" + h_type + \" \" + h_surface + \" \" + nb_people + \" \" + h_ref)\n",
    "        \n",
    "        temp = pd.read_csv(data_path + housing + \"/\" + house, header=[1],sep=',')\n",
    "        #rename the columns Unnamed: 0 to timestamp\n",
    "        temp.rename(columns={'Unnamed: 0':'date'}, inplace=True)\n",
    "        #drop the column Unnamed: 1 (consommation totale)\n",
    "        temp.drop('Unnamed: 1', axis=1, inplace=True)\n",
    "\n",
    "        #Transpose\n",
    "        temp = temp.T\n",
    "\n",
    "        #make the first row as header\n",
    "        temp['tmp_columns'] = temp.index\n",
    "        temp = temp.reset_index(drop=True)\n",
    "        temp.columns = temp.iloc[0]\n",
    "        temp = temp.drop(temp.index[0])\n",
    "        #make the column original_columns in first column\n",
    "        cols = temp.columns.tolist()\n",
    "        cols = cols[-1:] + cols[:-1]\n",
    "        temp = temp[cols]\n",
    "        #rename the column date to timestamp\n",
    "        temp.rename(columns={'date':'timestamp'}, inplace=True)\n",
    "\n",
    "        temp = pd.melt(temp, id_vars=['timestamp'], var_name='date', value_name='consommation')\n",
    "\n",
    "        temp[\"day\"] = temp[\"date\"].apply(lambda x: x.split(\"/\")[1])\n",
    "        temp[\"month\"] = temp[\"date\"].apply(lambda x: x.split(\"/\")[0])\n",
    "        temp[\"h_type\"] = h_type\n",
    "        temp[\"h_surface\"] = h_surface\n",
    "        temp[\"nb_people\"] = nb_people\n",
    "        temp[\"h_ref\"] = h_ref\n",
    "        temp.drop(\"date\", axis=1, inplace=True)\n",
    "        \n",
    "        df = pd.concat([df, temp], axis=0)\n",
    "    \n",
    "df.reset_index(drop=True, inplace=True) \n",
    "df"
   ]
  },
  {
   "cell_type": "code",
   "execution_count": 69,
   "metadata": {},
   "outputs": [
    {
     "data": {
      "text/plain": [
       "0.8026314973831177"
      ]
     },
     "execution_count": 69,
     "metadata": {},
     "output_type": "execute_result"
    }
   ],
   "source": [
    "# calculate df memory usage in GB\n",
    "df.memory_usage(deep=False).sum() / 1024**3"
   ]
  },
  {
   "cell_type": "code",
   "execution_count": 9,
   "metadata": {},
   "outputs": [],
   "source": [
    "df.to_csv(f\"../../data/dataframes/df.csv\", index=False)"
   ]
  },
  {
   "cell_type": "code",
   "execution_count": 68,
   "metadata": {},
   "outputs": [
    {
     "name": "stdout",
     "output_type": "stream",
     "text": [
      "<class 'pandas.core.frame.DataFrame'>\n",
      "RangeIndex: 13465920 entries, 0 to 13465919\n",
      "Data columns (total 8 columns):\n",
      " #   Column        Dtype \n",
      "---  ------        ----- \n",
      " 0   timestamp     object\n",
      " 1   consommation  object\n",
      " 2   day           object\n",
      " 3   month         object\n",
      " 4   h_type        object\n",
      " 5   h_surface     object\n",
      " 6   nb_people     object\n",
      " 7   h_ref         object\n",
      "dtypes: object(8)\n",
      "memory usage: 821.9+ MB\n"
     ]
    }
   ],
   "source": [
    "df.info()"
   ]
  },
  {
   "cell_type": "code",
   "execution_count": 70,
   "metadata": {},
   "outputs": [],
   "source": [
    "df[\"consommation\"] = df[\"consommation\"].astype(float)\n",
    "df[\"day\"]       = df[\"day\"].astype(int)\n",
    "df[\"month\"]     = df[\"month\"].astype(int)\n",
    "df[\"h_surface\"] = df[\"h_surface\"].astype(int)\n",
    "df[\"nb_people\"] = df[\"nb_people\"].astype(int)"
   ]
  },
  {
   "cell_type": "code",
   "execution_count": 71,
   "metadata": {},
   "outputs": [
    {
     "name": "stdout",
     "output_type": "stream",
     "text": [
      "<class 'pandas.core.frame.DataFrame'>\n",
      "RangeIndex: 13465920 entries, 0 to 13465919\n",
      "Data columns (total 8 columns):\n",
      " #   Column        Dtype  \n",
      "---  ------        -----  \n",
      " 0   timestamp     object \n",
      " 1   consommation  float64\n",
      " 2   day           int64  \n",
      " 3   month         int64  \n",
      " 4   h_type        object \n",
      " 5   h_surface     int64  \n",
      " 6   nb_people     int64  \n",
      " 7   h_ref         object \n",
      "dtypes: float64(1), int64(4), object(3)\n",
      "memory usage: 821.9+ MB\n"
     ]
    }
   ],
   "source": [
    "df.info()"
   ]
  },
  {
   "cell_type": "code",
   "execution_count": 14,
   "metadata": {},
   "outputs": [
    {
     "data": {
      "text/plain": [
       "2.0013530999422073"
      ]
     },
     "execution_count": 14,
     "metadata": {},
     "output_type": "execute_result"
    }
   ],
   "source": [
    "df.memory_usage(deep=True).sum() / 1024**3"
   ]
  },
  {
   "cell_type": "code",
   "execution_count": 73,
   "metadata": {},
   "outputs": [
    {
     "data": {
      "text/plain": [
       "str"
      ]
     },
     "execution_count": 73,
     "metadata": {},
     "output_type": "execute_result"
    }
   ],
   "source": [
    "type(df.h_ref[0])"
   ]
  },
  {
   "cell_type": "code",
   "execution_count": 74,
   "metadata": {},
   "outputs": [],
   "source": [
    "df.to_csv(\"../../data/dataframes/df.csv\", index = False)"
   ]
  }
 ],
 "metadata": {
  "kernelspec": {
   "display_name": ".SPIE",
   "language": "python",
   "name": "python3"
  },
  "language_info": {
   "codemirror_mode": {
    "name": "ipython",
    "version": 3
   },
   "file_extension": ".py",
   "mimetype": "text/x-python",
   "name": "python",
   "nbconvert_exporter": "python",
   "pygments_lexer": "ipython3",
   "version": "3.8.10"
  },
  "orig_nbformat": 4,
  "vscode": {
   "interpreter": {
    "hash": "67b9a42b22aa8589a9e6a3567f068f4b44f2f3f7a908f45812cd5383a688e544"
   }
  }
 },
 "nbformat": 4,
 "nbformat_minor": 2
}
