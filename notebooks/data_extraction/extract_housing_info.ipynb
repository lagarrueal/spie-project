{
 "cells": [
  {
   "cell_type": "code",
   "execution_count": 1,
   "metadata": {},
   "outputs": [],
   "source": [
    "import pandas as pd\n",
    "import os"
   ]
  },
  {
   "cell_type": "code",
   "execution_count": 9,
   "metadata": {},
   "outputs": [],
   "source": [
    "# Directory containing subdirectories for each housing\n",
    "# Each subdirectory contains a csv file \n",
    "data_path = \"../../data/housing_consomation/\"\n",
    "list_housings = os.listdir(data_path)"
   ]
  },
  {
   "cell_type": "code",
   "execution_count": 33,
   "metadata": {},
   "outputs": [],
   "source": [
    "def extract_housing_info_from_name(housing):\n",
    "    \"\"\"\n",
    "    Extracts the housing information from the csv file\n",
    "    The info is as follows:\n",
    "        - The first upper case letter is the type of housing (A : appartement, M : maison)\n",
    "        - The numbers after the letter represent the surface of the housing\n",
    "        - The number after the dash represents the number of people living in the housing\n",
    "    \"\"\"\n",
    "    info = housing.split(\" \")[1]\n",
    "    print(f\"Housing {info}\")\n",
    "    h_type = info[0]\n",
    "    info = info.replace(h_type, \"\")\n",
    "    surface, nb_people = info.split(\"-\")\n",
    "    print(f\"Housing type : {h_type}\")\n",
    "    print(f\"Surface (m²) : {surface}\")\n",
    "    print(f\"Number of people : {nb_people}\")\n"
   ]
  },
  {
   "cell_type": "code",
   "execution_count": 34,
   "metadata": {},
   "outputs": [
    {
     "name": "stdout",
     "output_type": "stream",
     "text": [
      "Housing A110-5\n",
      "Housing type : A\n",
      "Surface (m²) : 110\n",
      "Number of people : 5\n"
     ]
    }
   ],
   "source": [
    "extract_housing_info_from_name(list_housings[0])"
   ]
  }
 ],
 "metadata": {
  "kernelspec": {
   "display_name": ".SPIE",
   "language": "python",
   "name": ".spie"
  },
  "language_info": {
   "codemirror_mode": {
    "name": "ipython",
    "version": 3
   },
   "file_extension": ".py",
   "mimetype": "text/x-python",
   "name": "python",
   "nbconvert_exporter": "python",
   "pygments_lexer": "ipython3",
   "version": "3.8.10"
  },
  "orig_nbformat": 4,
  "vscode": {
   "interpreter": {
    "hash": "916dbcbb3f70747c44a77c7bcd40155683ae19c65e1c03b4aa3499c5328201f1"
   }
  }
 },
 "nbformat": 4,
 "nbformat_minor": 2
}
