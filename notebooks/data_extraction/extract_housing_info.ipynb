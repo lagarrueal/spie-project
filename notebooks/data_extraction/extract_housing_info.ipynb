{
 "cells": [
  {
   "cell_type": "code",
   "execution_count": 18,
   "metadata": {},
   "outputs": [],
   "source": [
    "import pandas as pd\n",
    "import os"
   ]
  },
  {
   "cell_type": "code",
   "execution_count": 19,
   "metadata": {},
   "outputs": [],
   "source": [
    "# Directory containing subdirectories for each housing\n",
    "# Each subdirectory contains a csv file \n",
    "data_path = \"../../data/housing_data/\"\n"
   ]
  },
  {
   "cell_type": "code",
   "execution_count": 20,
   "metadata": {},
   "outputs": [],
   "source": [
    "def extract_housing_info_from_name(housing):\n",
    "    \"\"\"\n",
    "    Extracts the housing information from the csv file\n",
    "    The info is as follows:\n",
    "        - The first upper case letter is the type of housing (A : appartement, M : maison)\n",
    "        - The numbers after the letter represent the surface of the housing\n",
    "        - The number after the dash represents the number of people living in the housing\n",
    "    \"\"\"\n",
    "    try:\n",
    "        info = housing.split(\".\")[0].split(\"_\")[2]\n",
    "        # print(f\"Housing {info}\")\n",
    "        h_type = info[0]\n",
    "        # print(f\"Housing type: {h_type}\")\n",
    "        if h_type == \"1\":\n",
    "            h_type = \"M\"\n",
    "        elif h_type == \"8\":\n",
    "            h_type = \"A\"\n",
    "        # print(f\"Housing type: {h_type}\")\n",
    "        info = info.replace(h_type, \"\")\n",
    "        surface, nb_people, h_ref = info.split(\"-\")\n",
    "    except:\n",
    "        h_ref = housing.split(\" \")[1].replace(\".csv\", \"\").strip(\"()\")\n",
    "        info = housing.split(\" \")[0].split(\"_\")[2]\n",
    "        h_type = info[0]\n",
    "        # print(f\"Ref: {h_ref}\")\n",
    "        # print(f\"Type: {h_type}\")\n",
    "        info = info.replace(h_type, \"\")\n",
    "        # print(f\"Info: {info}\")\n",
    "        surface, nb_people = info.split(\"-\")\n",
    "        # print(f\"Surface: {surface}\")\n",
    "        # print(f\"Nb people: {nb_people}\")\n",
    "\n",
    "    return h_type, surface, nb_people, h_ref"
   ]
  },
  {
   "cell_type": "code",
   "execution_count": 21,
   "metadata": {},
   "outputs": [
    {
     "data": {
      "text/plain": [
       "('M', '110', '2', '4')"
      ]
     },
     "execution_count": 21,
     "metadata": {},
     "output_type": "execute_result"
    }
   ],
   "source": [
    "extract_housing_info_from_name(\"data_maison_M110-2-4.csv\")"
   ]
  },
  {
   "cell_type": "code",
   "execution_count": 22,
   "metadata": {},
   "outputs": [
    {
     "data": {
      "text/plain": [
       "26"
      ]
     },
     "execution_count": 22,
     "metadata": {},
     "output_type": "execute_result"
    }
   ],
   "source": [
    "list_housings = os.listdir(data_path) # list of all the housings\n",
    "len(list_housings)"
   ]
  },
  {
   "cell_type": "code",
   "execution_count": 23,
   "metadata": {},
   "outputs": [
    {
     "name": "stdout",
     "output_type": "stream",
     "text": [
      "../../data/housing_data/data A110-5/data_maison_A110-5-370.csv :   A 110 5 370\n",
      "../../data/housing_data/data M170-6/data_maison_M170-6-249.csv :   M 170 6 249\n",
      "../../data/housing_data/data M120-5/data_maison_M120-5-1035.csv :   M 120 5 1035\n",
      "../../data/housing_data/data A150-6/data_maison_A150-6-154.csv :   A 150 6 154\n",
      "../../data/housing_data/data M135-3/data_maison_M135-3-492.csv :   M 135 3 492\n",
      "../../data/housing_data/data M150-4/data_maison_150-4-789.csv :   M 150 4 789\n",
      "../../data/housing_data/data M100-3/data_maison_M100-3-91.csv :   M 100 3 91\n",
      "../../data/housing_data/data A130-4/data_maison_A130-4-763.csv :   A 130 4 763\n",
      "../../data/housing_data/data M140-5/data_maison_140-5-330.csv :   M 140 5 330\n",
      "../../data/housing_data/data M250-5/data_maison_M250-5-11.csv :   M 250 5 11\n",
      "../../data/housing_data/data M80-2/data_maison_M80-2-292.csv :   M 80 2 292\n",
      "../../data/housing_data/data A50-3/data_maison_A50-3-630.csv :   A 50 3 630\n",
      "../../data/housing_data/data M90-4/data_maison_M90-4-791.csv :   M 90 4 791\n",
      "../../data/housing_data/data M65-3/data_maison_M65-3-741.csv :   M 65 3 741\n",
      "../../data/housing_data/data A100-3/data_maison_A100-3-85.csv :   A 100 3 85\n",
      "../../data/housing_data/data A120-4/data_maison_A120-4 (521).csv :   A 120 4 521\n",
      "../../data/housing_data/data A30-2/data_maison_A30-2-17.csv :   A 30 2 17\n",
      "../../data/housing_data/data M200-6/data_maison_M200-6-100.csv :   M 200 6 100\n",
      "../../data/housing_data/data M85-3/data_maison_85-3-233.csv :   A 85 3 233\n",
      "../../data/housing_data/data M160-5/data_maison_M160-5-707.csv :   M 160 5 707\n",
      "../../data/housing_data/data M50-2/data_maison_M50-2-6.csv :   M 50 2 6\n",
      "../../data/housing_data/data A25-1/data_maison_A25-1-25.csv :   A 25 1 25\n",
      "../../data/housing_data/data M110-4/data_maison_M110-4-432.csv :   M 110 4 432\n",
      "../../data/housing_data/data M180-5/data_maison_M180-5-733.csv :   M 180 5 733\n",
      "../../data/housing_data/data A15-1/data_maison_A15-1-93.csv :   A 15 1 93\n",
      "../../data/housing_data/data A50-2/data_maison_A50-2-478.csv :   A 50 2 478\n"
     ]
    },
    {
     "data": {
      "text/html": [
       "<div>\n",
       "<style scoped>\n",
       "    .dataframe tbody tr th:only-of-type {\n",
       "        vertical-align: middle;\n",
       "    }\n",
       "\n",
       "    .dataframe tbody tr th {\n",
       "        vertical-align: top;\n",
       "    }\n",
       "\n",
       "    .dataframe thead th {\n",
       "        text-align: right;\n",
       "    }\n",
       "</style>\n",
       "<table border=\"1\" class=\"dataframe\">\n",
       "  <thead>\n",
       "    <tr style=\"text-align: right;\">\n",
       "      <th></th>\n",
       "      <th>timestamp</th>\n",
       "      <th>date</th>\n",
       "      <th>consommation</th>\n",
       "      <th>h_type</th>\n",
       "      <th>h_surface</th>\n",
       "      <th>nb_people</th>\n",
       "      <th>h_ref</th>\n",
       "    </tr>\n",
       "  </thead>\n",
       "  <tbody>\n",
       "    <tr>\n",
       "      <th>0</th>\n",
       "      <td>0:00</td>\n",
       "      <td>12/14/2022</td>\n",
       "      <td>0.7197</td>\n",
       "      <td>A</td>\n",
       "      <td>110</td>\n",
       "      <td>5</td>\n",
       "      <td>370</td>\n",
       "    </tr>\n",
       "    <tr>\n",
       "      <th>1</th>\n",
       "      <td>0:30</td>\n",
       "      <td>12/14/2022</td>\n",
       "      <td>0.7353</td>\n",
       "      <td>A</td>\n",
       "      <td>110</td>\n",
       "      <td>5</td>\n",
       "      <td>370</td>\n",
       "    </tr>\n",
       "    <tr>\n",
       "      <th>2</th>\n",
       "      <td>1:00</td>\n",
       "      <td>12/14/2022</td>\n",
       "      <td>0.5541</td>\n",
       "      <td>A</td>\n",
       "      <td>110</td>\n",
       "      <td>5</td>\n",
       "      <td>370</td>\n",
       "    </tr>\n",
       "    <tr>\n",
       "      <th>3</th>\n",
       "      <td>1:30</td>\n",
       "      <td>12/14/2022</td>\n",
       "      <td>1.0196</td>\n",
       "      <td>A</td>\n",
       "      <td>110</td>\n",
       "      <td>5</td>\n",
       "      <td>370</td>\n",
       "    </tr>\n",
       "    <tr>\n",
       "      <th>4</th>\n",
       "      <td>2:00</td>\n",
       "      <td>12/14/2022</td>\n",
       "      <td>0.9321</td>\n",
       "      <td>A</td>\n",
       "      <td>110</td>\n",
       "      <td>5</td>\n",
       "      <td>370</td>\n",
       "    </tr>\n",
       "    <tr>\n",
       "      <th>...</th>\n",
       "      <td>...</td>\n",
       "      <td>...</td>\n",
       "      <td>...</td>\n",
       "      <td>...</td>\n",
       "      <td>...</td>\n",
       "      <td>...</td>\n",
       "      <td>...</td>\n",
       "    </tr>\n",
       "    <tr>\n",
       "      <th>1346587</th>\n",
       "      <td>21:30</td>\n",
       "      <td>1/1/2020</td>\n",
       "      <td>0.3647</td>\n",
       "      <td>A</td>\n",
       "      <td>50</td>\n",
       "      <td>2</td>\n",
       "      <td>478</td>\n",
       "    </tr>\n",
       "    <tr>\n",
       "      <th>1346588</th>\n",
       "      <td>22:00</td>\n",
       "      <td>1/1/2020</td>\n",
       "      <td>0.3388</td>\n",
       "      <td>A</td>\n",
       "      <td>50</td>\n",
       "      <td>2</td>\n",
       "      <td>478</td>\n",
       "    </tr>\n",
       "    <tr>\n",
       "      <th>1346589</th>\n",
       "      <td>22:30</td>\n",
       "      <td>1/1/2020</td>\n",
       "      <td>0.4558</td>\n",
       "      <td>A</td>\n",
       "      <td>50</td>\n",
       "      <td>2</td>\n",
       "      <td>478</td>\n",
       "    </tr>\n",
       "    <tr>\n",
       "      <th>1346590</th>\n",
       "      <td>23:00</td>\n",
       "      <td>1/1/2020</td>\n",
       "      <td>0.3219</td>\n",
       "      <td>A</td>\n",
       "      <td>50</td>\n",
       "      <td>2</td>\n",
       "      <td>478</td>\n",
       "    </tr>\n",
       "    <tr>\n",
       "      <th>1346591</th>\n",
       "      <td>23:30</td>\n",
       "      <td>1/1/2020</td>\n",
       "      <td>0.2938</td>\n",
       "      <td>A</td>\n",
       "      <td>50</td>\n",
       "      <td>2</td>\n",
       "      <td>478</td>\n",
       "    </tr>\n",
       "  </tbody>\n",
       "</table>\n",
       "<p>1346592 rows × 7 columns</p>\n",
       "</div>"
      ],
      "text/plain": [
       "        timestamp        date consommation h_type h_surface nb_people h_ref\n",
       "0            0:00  12/14/2022       0.7197      A       110         5   370\n",
       "1            0:30  12/14/2022       0.7353      A       110         5   370\n",
       "2            1:00  12/14/2022       0.5541      A       110         5   370\n",
       "3            1:30  12/14/2022       1.0196      A       110         5   370\n",
       "4            2:00  12/14/2022       0.9321      A       110         5   370\n",
       "...           ...         ...          ...    ...       ...       ...   ...\n",
       "1346587     21:30    1/1/2020       0.3647      A        50         2   478\n",
       "1346588     22:00    1/1/2020       0.3388      A        50         2   478\n",
       "1346589     22:30    1/1/2020       0.4558      A        50         2   478\n",
       "1346590     23:00    1/1/2020       0.3219      A        50         2   478\n",
       "1346591     23:30    1/1/2020       0.2938      A        50         2   478\n",
       "\n",
       "[1346592 rows x 7 columns]"
      ]
     },
     "execution_count": 23,
     "metadata": {},
     "output_type": "execute_result"
    }
   ],
   "source": [
    "df = pd.DataFrame()\n",
    "\n",
    "for housing in list_housings:\n",
    "    houses = os.listdir(data_path + housing)\n",
    "    for house in houses[:1]:\n",
    "        \n",
    "        h_type, h_surface, nb_people, h_ref = extract_housing_info_from_name(house)\n",
    "        print(data_path + housing + \"/\" + house + \" :   \" + h_type + \" \" + h_surface + \" \" + nb_people + \" \" + h_ref)\n",
    "        \n",
    "        temp = pd.read_csv(data_path + housing + \"/\" + house, header=[1],sep=',')\n",
    "        #rename the columns Unnamed: 0 to timestamp\n",
    "        temp.rename(columns={'Unnamed: 0':'date'}, inplace=True)\n",
    "        #drop the column Unnamed: 1 (consommation totale)\n",
    "        temp.drop('Unnamed: 1', axis=1, inplace=True)\n",
    "\n",
    "        #Transpose\n",
    "        temp = temp.T\n",
    "\n",
    "        #make the first row as header\n",
    "        temp['tmp_columns'] = temp.index\n",
    "        temp = temp.reset_index(drop=True)\n",
    "        temp.columns = temp.iloc[0]\n",
    "        temp = temp.drop(temp.index[0])\n",
    "        #make the column original_columns in first column\n",
    "        cols = temp.columns.tolist()\n",
    "        cols = cols[-1:] + cols[:-1]\n",
    "        temp = temp[cols]\n",
    "        #rename the column date to timestamp\n",
    "        temp.rename(columns={'date':'timestamp'}, inplace=True)\n",
    "\n",
    "        temp = pd.melt(temp, id_vars=['timestamp'], var_name='date', value_name='consommation')\n",
    "        \n",
    "        temp[\"h_type\"] = h_type\n",
    "        temp[\"h_surface\"] = h_surface\n",
    "        temp[\"nb_people\"] = nb_people\n",
    "        temp[\"h_ref\"] = h_ref\n",
    "        \n",
    "        df = pd.concat([df, temp], axis=0)\n",
    "    \n",
    "df.reset_index(drop=True, inplace=True) \n",
    "df"
   ]
  },
  {
   "cell_type": "code",
   "execution_count": 24,
   "metadata": {},
   "outputs": [
    {
     "data": {
      "text/plain": [
       "array(['A', 'M'], dtype=object)"
      ]
     },
     "execution_count": 24,
     "metadata": {},
     "output_type": "execute_result"
    }
   ],
   "source": [
    "df[\"h_type\"].unique()"
   ]
  },
  {
   "cell_type": "code",
   "execution_count": 25,
   "metadata": {},
   "outputs": [
    {
     "data": {
      "text/plain": [
       "0.07023036479949951"
      ]
     },
     "execution_count": 25,
     "metadata": {},
     "output_type": "execute_result"
    }
   ],
   "source": [
    "# calculate df memory usage in GB\n",
    "df.memory_usage(deep=False).sum() / 1024**3"
   ]
  },
  {
   "cell_type": "code",
   "execution_count": 26,
   "metadata": {},
   "outputs": [],
   "source": [
    "df.to_csv(f\"../../data/dataframes/df2.csv\", index=False)"
   ]
  },
  {
   "cell_type": "code",
   "execution_count": 27,
   "metadata": {},
   "outputs": [
    {
     "name": "stdout",
     "output_type": "stream",
     "text": [
      "<class 'pandas.core.frame.DataFrame'>\n",
      "RangeIndex: 1346592 entries, 0 to 1346591\n",
      "Data columns (total 7 columns):\n",
      " #   Column        Non-Null Count    Dtype \n",
      "---  ------        --------------    ----- \n",
      " 0   timestamp     1346592 non-null  object\n",
      " 1   date          1346592 non-null  object\n",
      " 2   consommation  1346592 non-null  object\n",
      " 3   h_type        1346592 non-null  object\n",
      " 4   h_surface     1346592 non-null  object\n",
      " 5   nb_people     1346592 non-null  object\n",
      " 6   h_ref         1346592 non-null  object\n",
      "dtypes: object(7)\n",
      "memory usage: 71.9+ MB\n"
     ]
    }
   ],
   "source": [
    "df.info()"
   ]
  },
  {
   "cell_type": "code",
   "execution_count": 28,
   "metadata": {},
   "outputs": [],
   "source": [
    "df[\"consommation\"] = df[\"consommation\"].astype(float)\n",
    "df[\"h_surface\"] = df[\"h_surface\"].astype(int)\n",
    "df[\"nb_people\"] = df[\"nb_people\"].astype(int)"
   ]
  },
  {
   "cell_type": "code",
   "execution_count": 29,
   "metadata": {},
   "outputs": [
    {
     "name": "stdout",
     "output_type": "stream",
     "text": [
      "<class 'pandas.core.frame.DataFrame'>\n",
      "RangeIndex: 1346592 entries, 0 to 1346591\n",
      "Data columns (total 7 columns):\n",
      " #   Column        Non-Null Count    Dtype  \n",
      "---  ------        --------------    -----  \n",
      " 0   timestamp     1346592 non-null  object \n",
      " 1   date          1346592 non-null  object \n",
      " 2   consommation  1346592 non-null  float64\n",
      " 3   h_type        1346592 non-null  object \n",
      " 4   h_surface     1346592 non-null  int64  \n",
      " 5   nb_people     1346592 non-null  int64  \n",
      " 6   h_ref         1346592 non-null  object \n",
      "dtypes: float64(1), int64(2), object(4)\n",
      "memory usage: 71.9+ MB\n"
     ]
    }
   ],
   "source": [
    "df.info()"
   ]
  },
  {
   "cell_type": "code",
   "execution_count": 30,
   "metadata": {},
   "outputs": [
    {
     "data": {
      "text/plain": [
       "0.33767449110746384"
      ]
     },
     "execution_count": 30,
     "metadata": {},
     "output_type": "execute_result"
    }
   ],
   "source": [
    "df.memory_usage(deep=True).sum() / 1024**3"
   ]
  },
  {
   "cell_type": "code",
   "execution_count": 31,
   "metadata": {},
   "outputs": [
    {
     "data": {
      "text/plain": [
       "str"
      ]
     },
     "execution_count": 31,
     "metadata": {},
     "output_type": "execute_result"
    }
   ],
   "source": [
    "type(df.h_ref[0])"
   ]
  },
  {
   "cell_type": "code",
   "execution_count": 32,
   "metadata": {},
   "outputs": [],
   "source": [
    "df.to_csv(\"../../data/dataframes/df2.csv\", index = False)"
   ]
  },
  {
   "cell_type": "code",
   "execution_count": null,
   "metadata": {},
   "outputs": [],
   "source": []
  }
 ],
 "metadata": {
  "kernelspec": {
   "display_name": ".SPIE",
   "language": "python",
   "name": "python3"
  },
  "language_info": {
   "codemirror_mode": {
    "name": "ipython",
    "version": 3
   },
   "file_extension": ".py",
   "mimetype": "text/x-python",
   "name": "python",
   "nbconvert_exporter": "python",
   "pygments_lexer": "ipython3",
   "version": "3.8.10"
  },
  "orig_nbformat": 4,
  "vscode": {
   "interpreter": {
    "hash": "67b9a42b22aa8589a9e6a3567f068f4b44f2f3f7a908f45812cd5383a688e544"
   }
  }
 },
 "nbformat": 4,
 "nbformat_minor": 2
}
